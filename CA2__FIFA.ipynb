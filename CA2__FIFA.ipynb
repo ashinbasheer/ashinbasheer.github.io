{
  "nbformat": 4,
  "nbformat_minor": 0,
  "metadata": {
    "colab": {
      "name": "CA2 _FIFA.ipynb",
      "version": "0.3.2",
      "provenance": [],
      "include_colab_link": true
    },
    "language_info": {
      "codemirror_mode": {
        "name": "ipython",
        "version": 3
      },
      "file_extension": ".py",
      "mimetype": "text/x-python",
      "name": "python",
      "nbconvert_exporter": "python",
      "pygments_lexer": "ipython3",
      "version": "3.7.1"
    },
    "kernelspec": {
      "display_name": "Python 3",
      "language": "python",
      "name": "python3"
    }
  },
  "cells": [
    {
      "cell_type": "markdown",
      "metadata": {
        "id": "view-in-github",
        "colab_type": "text"
      },
      "source": [
        "<a href=\"https://colab.research.google.com/github/ashinbasheer/ashinbasheer.github.io/blob/master/CA2__FIFA.ipynb\" target=\"_parent\"><img src=\"https://colab.research.google.com/assets/colab-badge.svg\" alt=\"Open In Colab\"/></a>"
      ]
    },
    {
      "metadata": {
        "id": "mlieGW7K8BNp",
        "colab_type": "text"
      },
      "cell_type": "markdown",
      "source": [
        "                        FIFA WORLD CUP 2018"
      ]
    },
    {
      "metadata": {
        "id": "1iKfa2DU8BNy",
        "colab_type": "code",
        "colab": {}
      },
      "cell_type": "code",
      "source": [
        "import numpy as np\n",
        "import pandas as pd\n",
        "\n",
        "import seaborn as sns\n",
        "import matplotlib.pyplot as plt\n",
        "%matplotlib inline\n",
        "\n",
        "import plotly.offline as py\n",
        "import plotly.graph_objs as go\n"
      ],
      "execution_count": 0,
      "outputs": []
    },
    {
      "metadata": {
        "id": "rVe6Cp4m8BN4",
        "colab_type": "text"
      },
      "cell_type": "markdown",
      "source": [
        "Importing dataset and preparation of data"
      ]
    },
    {
      "metadata": {
        "id": "13sje_j-8BN5",
        "colab_type": "text"
      },
      "cell_type": "markdown",
      "source": [
        "Load dataset"
      ]
    },
    {
      "metadata": {
        "id": "3tI0tSNP8BN7",
        "colab_type": "code",
        "colab": {
          "base_uri": "https://localhost:8080/",
          "height": 85
        },
        "outputId": "f4b38487-a6db-48e0-c0fb-044c688fb126"
      },
      "cell_type": "code",
      "source": [
        "# Importing the dataset \n",
        "dataset=pd.read_csv(\"https://raw.githubusercontent.com/ashinbasheer/ashinbasheer.github.io/master/CompleteDataset.csv\")"
      ],
      "execution_count": 6,
      "outputs": [
        {
          "output_type": "stream",
          "text": [
            "/usr/local/lib/python3.6/dist-packages/IPython/core/interactiveshell.py:2718: DtypeWarning:\n",
            "\n",
            "Columns (23,35) have mixed types. Specify dtype option on import or set low_memory=False.\n",
            "\n"
          ],
          "name": "stderr"
        }
      ]
    },
    {
      "metadata": {
        "id": "Fyf5nf-l8BOA",
        "colab_type": "text"
      },
      "cell_type": "markdown",
      "source": [
        "Trying to get the head of the dataset"
      ]
    },
    {
      "metadata": {
        "id": "ZaPcSpe98BOB",
        "colab_type": "code",
        "colab": {
          "base_uri": "https://localhost:8080/",
          "height": 466
        },
        "outputId": "afcf45ac-a5ac-4400-c8c3-5fecee138ddb"
      },
      "cell_type": "code",
      "source": [
        "dataset.head()"
      ],
      "execution_count": 4,
      "outputs": [
        {
          "output_type": "execute_result",
          "data": {
            "text/html": [
              "<div>\n",
              "<style scoped>\n",
              "    .dataframe tbody tr th:only-of-type {\n",
              "        vertical-align: middle;\n",
              "    }\n",
              "\n",
              "    .dataframe tbody tr th {\n",
              "        vertical-align: top;\n",
              "    }\n",
              "\n",
              "    .dataframe thead th {\n",
              "        text-align: right;\n",
              "    }\n",
              "</style>\n",
              "<table border=\"1\" class=\"dataframe\">\n",
              "  <thead>\n",
              "    <tr style=\"text-align: right;\">\n",
              "      <th></th>\n",
              "      <th>Unnamed: 0</th>\n",
              "      <th>Name</th>\n",
              "      <th>Age</th>\n",
              "      <th>Photo</th>\n",
              "      <th>Nationality</th>\n",
              "      <th>Flag</th>\n",
              "      <th>Overall</th>\n",
              "      <th>Potential</th>\n",
              "      <th>Club</th>\n",
              "      <th>Club Logo</th>\n",
              "      <th>...</th>\n",
              "      <th>RB</th>\n",
              "      <th>RCB</th>\n",
              "      <th>RCM</th>\n",
              "      <th>RDM</th>\n",
              "      <th>RF</th>\n",
              "      <th>RM</th>\n",
              "      <th>RS</th>\n",
              "      <th>RW</th>\n",
              "      <th>RWB</th>\n",
              "      <th>ST</th>\n",
              "    </tr>\n",
              "  </thead>\n",
              "  <tbody>\n",
              "    <tr>\n",
              "      <th>0</th>\n",
              "      <td>0</td>\n",
              "      <td>Cristiano Ronaldo</td>\n",
              "      <td>32</td>\n",
              "      <td>https://cdn.sofifa.org/48/18/players/20801.png</td>\n",
              "      <td>Portugal</td>\n",
              "      <td>https://cdn.sofifa.org/flags/38.png</td>\n",
              "      <td>94</td>\n",
              "      <td>94</td>\n",
              "      <td>Real Madrid CF</td>\n",
              "      <td>https://cdn.sofifa.org/24/18/teams/243.png</td>\n",
              "      <td>...</td>\n",
              "      <td>61.0</td>\n",
              "      <td>53.0</td>\n",
              "      <td>82.0</td>\n",
              "      <td>62.0</td>\n",
              "      <td>91.0</td>\n",
              "      <td>89.0</td>\n",
              "      <td>92.0</td>\n",
              "      <td>91.0</td>\n",
              "      <td>66.0</td>\n",
              "      <td>92.0</td>\n",
              "    </tr>\n",
              "    <tr>\n",
              "      <th>1</th>\n",
              "      <td>1</td>\n",
              "      <td>L. Messi</td>\n",
              "      <td>30</td>\n",
              "      <td>https://cdn.sofifa.org/48/18/players/158023.png</td>\n",
              "      <td>Argentina</td>\n",
              "      <td>https://cdn.sofifa.org/flags/52.png</td>\n",
              "      <td>93</td>\n",
              "      <td>93</td>\n",
              "      <td>FC Barcelona</td>\n",
              "      <td>https://cdn.sofifa.org/24/18/teams/241.png</td>\n",
              "      <td>...</td>\n",
              "      <td>57.0</td>\n",
              "      <td>45.0</td>\n",
              "      <td>84.0</td>\n",
              "      <td>59.0</td>\n",
              "      <td>92.0</td>\n",
              "      <td>90.0</td>\n",
              "      <td>88.0</td>\n",
              "      <td>91.0</td>\n",
              "      <td>62.0</td>\n",
              "      <td>88.0</td>\n",
              "    </tr>\n",
              "    <tr>\n",
              "      <th>2</th>\n",
              "      <td>2</td>\n",
              "      <td>Neymar</td>\n",
              "      <td>25</td>\n",
              "      <td>https://cdn.sofifa.org/48/18/players/190871.png</td>\n",
              "      <td>Brazil</td>\n",
              "      <td>https://cdn.sofifa.org/flags/54.png</td>\n",
              "      <td>92</td>\n",
              "      <td>94</td>\n",
              "      <td>Paris Saint-Germain</td>\n",
              "      <td>https://cdn.sofifa.org/24/18/teams/73.png</td>\n",
              "      <td>...</td>\n",
              "      <td>59.0</td>\n",
              "      <td>46.0</td>\n",
              "      <td>79.0</td>\n",
              "      <td>59.0</td>\n",
              "      <td>88.0</td>\n",
              "      <td>87.0</td>\n",
              "      <td>84.0</td>\n",
              "      <td>89.0</td>\n",
              "      <td>64.0</td>\n",
              "      <td>84.0</td>\n",
              "    </tr>\n",
              "    <tr>\n",
              "      <th>3</th>\n",
              "      <td>3</td>\n",
              "      <td>L. Suárez</td>\n",
              "      <td>30</td>\n",
              "      <td>https://cdn.sofifa.org/48/18/players/176580.png</td>\n",
              "      <td>Uruguay</td>\n",
              "      <td>https://cdn.sofifa.org/flags/60.png</td>\n",
              "      <td>92</td>\n",
              "      <td>92</td>\n",
              "      <td>FC Barcelona</td>\n",
              "      <td>https://cdn.sofifa.org/24/18/teams/241.png</td>\n",
              "      <td>...</td>\n",
              "      <td>64.0</td>\n",
              "      <td>58.0</td>\n",
              "      <td>80.0</td>\n",
              "      <td>65.0</td>\n",
              "      <td>88.0</td>\n",
              "      <td>85.0</td>\n",
              "      <td>88.0</td>\n",
              "      <td>87.0</td>\n",
              "      <td>68.0</td>\n",
              "      <td>88.0</td>\n",
              "    </tr>\n",
              "    <tr>\n",
              "      <th>4</th>\n",
              "      <td>4</td>\n",
              "      <td>M. Neuer</td>\n",
              "      <td>31</td>\n",
              "      <td>https://cdn.sofifa.org/48/18/players/167495.png</td>\n",
              "      <td>Germany</td>\n",
              "      <td>https://cdn.sofifa.org/flags/21.png</td>\n",
              "      <td>92</td>\n",
              "      <td>92</td>\n",
              "      <td>FC Bayern Munich</td>\n",
              "      <td>https://cdn.sofifa.org/24/18/teams/21.png</td>\n",
              "      <td>...</td>\n",
              "      <td>NaN</td>\n",
              "      <td>NaN</td>\n",
              "      <td>NaN</td>\n",
              "      <td>NaN</td>\n",
              "      <td>NaN</td>\n",
              "      <td>NaN</td>\n",
              "      <td>NaN</td>\n",
              "      <td>NaN</td>\n",
              "      <td>NaN</td>\n",
              "      <td>NaN</td>\n",
              "    </tr>\n",
              "  </tbody>\n",
              "</table>\n",
              "<p>5 rows × 75 columns</p>\n",
              "</div>"
            ],
            "text/plain": [
              "   Unnamed: 0               Name  Age  \\\n",
              "0           0  Cristiano Ronaldo   32   \n",
              "1           1           L. Messi   30   \n",
              "2           2             Neymar   25   \n",
              "3           3          L. Suárez   30   \n",
              "4           4           M. Neuer   31   \n",
              "\n",
              "                                             Photo Nationality  \\\n",
              "0   https://cdn.sofifa.org/48/18/players/20801.png    Portugal   \n",
              "1  https://cdn.sofifa.org/48/18/players/158023.png   Argentina   \n",
              "2  https://cdn.sofifa.org/48/18/players/190871.png      Brazil   \n",
              "3  https://cdn.sofifa.org/48/18/players/176580.png     Uruguay   \n",
              "4  https://cdn.sofifa.org/48/18/players/167495.png     Germany   \n",
              "\n",
              "                                  Flag  Overall  Potential  \\\n",
              "0  https://cdn.sofifa.org/flags/38.png       94         94   \n",
              "1  https://cdn.sofifa.org/flags/52.png       93         93   \n",
              "2  https://cdn.sofifa.org/flags/54.png       92         94   \n",
              "3  https://cdn.sofifa.org/flags/60.png       92         92   \n",
              "4  https://cdn.sofifa.org/flags/21.png       92         92   \n",
              "\n",
              "                  Club                                   Club Logo  ...    RB  \\\n",
              "0       Real Madrid CF  https://cdn.sofifa.org/24/18/teams/243.png  ...  61.0   \n",
              "1         FC Barcelona  https://cdn.sofifa.org/24/18/teams/241.png  ...  57.0   \n",
              "2  Paris Saint-Germain   https://cdn.sofifa.org/24/18/teams/73.png  ...  59.0   \n",
              "3         FC Barcelona  https://cdn.sofifa.org/24/18/teams/241.png  ...  64.0   \n",
              "4     FC Bayern Munich   https://cdn.sofifa.org/24/18/teams/21.png  ...   NaN   \n",
              "\n",
              "    RCB   RCM   RDM    RF    RM    RS    RW   RWB    ST  \n",
              "0  53.0  82.0  62.0  91.0  89.0  92.0  91.0  66.0  92.0  \n",
              "1  45.0  84.0  59.0  92.0  90.0  88.0  91.0  62.0  88.0  \n",
              "2  46.0  79.0  59.0  88.0  87.0  84.0  89.0  64.0  84.0  \n",
              "3  58.0  80.0  65.0  88.0  85.0  88.0  87.0  68.0  88.0  \n",
              "4   NaN   NaN   NaN   NaN   NaN   NaN   NaN   NaN   NaN  \n",
              "\n",
              "[5 rows x 75 columns]"
            ]
          },
          "metadata": {
            "tags": []
          },
          "execution_count": 4
        }
      ]
    },
    {
      "metadata": {
        "id": "l1faGSol8BOG",
        "colab_type": "text"
      },
      "cell_type": "markdown",
      "source": [
        "The dataset ‘CompleteDataset.csv’ contains information about 17981 players in total and 75 attributes associated with\n",
        "those players.\n",
        "\n",
        "This dataset was obtained from the kaggle page here where they have scraped the data from this https://sofifa.com/\n",
        "\n",
        "Majority of the attributes are self-explanatory like the Flag, Age, nationality etc. The attributes like Acceleration, Ball Control,\n",
        "Marking etc. just assigns a number between 1 and 100 for that particular player depending on the player’s strength in that area.But,\n",
        "descriptions will be needed for the player positions as it will not be familiar for the people who don’t follow soccer. So, following \n",
        "are the descriptions of the player positions that I have used in the dataset.\n",
        "\n",
        "Abbreviation\tMeaning\n",
        "CB\tCenter Back\n",
        "LB\tLeft Back\n",
        "RB\tRight Back\n",
        "CM\tCenter Midfield\n",
        "LM\tLeft Midfield\n",
        "RM\tRight Midfield\n",
        "ST\tStriker\n",
        "LW\tLeft Wing\n",
        "RW\tRight Wing\n",
        "\n",
        "\n"
      ]
    },
    {
      "metadata": {
        "id": "jQAv2-Qw8BOG",
        "colab_type": "code",
        "colab": {}
      },
      "cell_type": "code",
      "source": [
        "interesting_columns = [\n",
        "    'Name', \n",
        "    'Age', \n",
        "    'Photo', \n",
        "    'Nationality', \n",
        "    'Overall', \n",
        "    'Potential', \n",
        "    'Club', \n",
        "    'Value', \n",
        "    'Wage', \n",
        "    'Preferred Positions'\n",
        "]\n",
        "dataset = pd.DataFrame(dataset, columns=interesting_columns)"
      ],
      "execution_count": 0,
      "outputs": []
    },
    {
      "metadata": {
        "id": "epnM_Ak08BOJ",
        "colab_type": "text"
      },
      "cell_type": "markdown",
      "source": [
        "Data preprocessing\n",
        "\n",
        "Numeric columns of Value and Wage\n",
        "\n",
        "Right away we can see that values in columns: 'Value' and 'Wage' aren't \n",
        "numeric but objects. Firstly we need to preprocess the data to make it usable for us. \n",
        "We will use short supporting function to convert values in those two columns into numbers. \n",
        "We will end up with two new columns 'ValueNum' and 'WageNum' that will contain numeric values.\n",
        "\n",
        "\n"
      ]
    },
    {
      "metadata": {
        "id": "dwqJFmy48BOK",
        "colab_type": "code",
        "colab": {}
      },
      "cell_type": "code",
      "source": [
        "# Supporting function for converting string values into numbers\n",
        "def str2number(amount):\n",
        "    if amount[-1] == 'M':\n",
        "        return float(amount[1:-1])*1000000\n",
        "    elif amount[-1] == 'K':\n",
        "        return float(amount[1:-1])*1000\n",
        "    else:\n",
        "        return float(amount[1:])\n",
        "    \n",
        "\n",
        "#dataset['FamilySize'] = dataset['SibSp'] + dataset['Parch'] + 1\n",
        "dataset['ValueNum'] = dataset['Value'].apply(lambda x: str2number(x))\n",
        "dataset['WageNum'] = dataset['Wage'].apply(lambda x: str2number(x))"
      ],
      "execution_count": 0,
      "outputs": []
    },
    {
      "metadata": {
        "id": "fUVOsN3t8BON",
        "colab_type": "code",
        "colab": {}
      },
      "cell_type": "code",
      "source": [
        "#We will also add two additional columns: 'ValueCategory' and 'WageCategory'.\n",
        "#We will use those collumns to divide players into ten classes basing on their value and incom.\n",
        "\n",
        "max_value = float(dataset['ValueNum'].max() + 1)\n",
        "max_wage = float(dataset['WageNum'].max() + 1)\n",
        "\n",
        "# Supporting function for creating category columns 'ValueCategory' and 'WageCategory'\n",
        "def mappingAmount(x, max_amount):\n",
        "    for i in range(0, 10):\n",
        "        if x >= max_amount/10*i and x < max_amount/10*(i+1):\n",
        "            return i\n",
        "        \n",
        "dataset['ValueCategory'] = dataset['ValueNum'].apply(lambda x: mappingAmount(x, max_value))\n",
        "dataset['WageCategory'] = dataset['WageNum'].apply(lambda x: mappingAmount(x, max_wage))"
      ],
      "execution_count": 0,
      "outputs": []
    },
    {
      "metadata": {
        "id": "mEE1I-9z8BOQ",
        "colab_type": "code",
        "colab": {}
      },
      "cell_type": "code",
      "source": [
        "#Potential points\n",
        "dataset['PotentialPoints'] = dataset['Potential'] - dataset['Overall']\n",
        "# Preferred position\n",
        "dataset['Position'] = dataset['Preferred Positions'].str.split().str[0]\n",
        "dataset['PositionNum'] = dataset['Preferred Positions'].apply(lambda x: len(x.split()))\n",
        "## List of countries for each continent\n",
        "continents = {\n",
        "    'Africa' : ['Algeria','Angola','Benin','Botswana','Burkina','Burundi','Cameroon','Cape Verde','Central African Republic','Chad','Comoros','Congo','DR Congo','Djibouti','Egypt','Equatorial Guinea','Eritrea','Ethiopia','Gabon','Gambia','Ghana','Guinea','Guinea Bissau','Ivory Coast','Kenya','Lesotho','Liberia','Libya','Madagascar','Malawi','Mali','Mauritania','Mauritius','Morocco','Mozambique','Namibia','Niger','Nigeria','Rwanda','Sao Tome and Principe','Senegal','Seychelles','Sierra Leone','Somalia','South Africa','South Sudan','Sudan','Swaziland','Tanzania','Togo','Tunisia','Uganda','Zambia','Zimbabwe','Burkina Faso'],\n",
        "    'Antarctica' : ['Fiji','Kiribati','Marshall Islands','Micronesia','Nauru','New Zealand','Palau','Papua New Guinea','Samoa','Solomon Islands','Tonga','Tuvalu','Vanuatu'],\n",
        "    'Asia' : ['Afghanistan','Bahrain','Bangladesh','Bhutan','Brunei','Burma (Myanmar)','Cambodia','China','China PR','East Timor','India','Indonesia','Iran','Iraq','Israel','Japan','Jordan','Kazakhstan','North Korea','South Korea','Korea Republic','Korea DPR','Kuwait','Kyrgyzstan','Laos','Lebanon','Malaysia','Maldives','Mongolia','Nepal','Oman','Pakistan','Palestine','Philippines','Qatar','Russian Federation','Saudi Arabia','Singapore','Sri Lanka','Syria','Tajikistan','Thailand','Turkey','Turkmenistan','United Arab Emirates','Uzbekistan','Vietnam','Yemen','Russia'],\n",
        "    'Australia Oceania' : ['Australia','New Caledonia'],\n",
        "    'Europe' : ['Albania','Andorra','Armenia','Austria','Azerbaijan','Belarus','Belgium','Bosnia Herzegovina','Bulgaria','Croatia','Cyprus','Czech Republic','Denmark','Estonia','Finland','France','FYR Macedonia','Georgia','Germany','Greece','Hungary','Iceland','Ireland','Italy','Kosovo','Latvia','Liechtenstein','Lithuania','Luxembourg','Macedonia','Malta','Moldova','Monaco','Montenegro','Netherlands','Northern Ireland','Norway','Poland','Portugal','Romania','San Marino','Scotland','Serbia','Slovakia','Slovenia','Spain','Sweden','Switzerland','Ukraine','England','Vatican City','Republic of Ireland','Wales'],\n",
        "    'North America' : ['Antigua and Barbuda','Bahamas','Barbados','Belize','Canada','Costa Rica','Cuba','Dominica','Dominican Republic','El Salvador','Grenada','Guatemala','Haiti','Honduras','Jamaica','Mexico','Nicaragua','Panama','Saint Kitts and Nevis','Saint Lucia','Saint Vincent and the Grenadines','Trinidad and Tobago','United States'],\n",
        "    'South America' : ['Argentina','Bolivia','Brazil','Chile','Colombia','Curacao','Ecuador','Guyana','Paraguay','Peru','Suriname','Trinidad & Tobago','Uruguay','Venezuela']\n",
        "}\n",
        "\n",
        "# Function matching continent to countries\n",
        "def find_continent(x, continents_list):\n",
        "    # Iteration over \n",
        "    for key in continents_list:\n",
        "        if x in continents_list[key]:\n",
        "            return key\n",
        "    return np.NaN\n",
        "\n",
        "dataset['Continent'] = dataset['Nationality'].apply(lambda x: find_continent(x, continents))"
      ],
      "execution_count": 0,
      "outputs": []
    },
    {
      "metadata": {
        "id": "nIjbNDRO8BOT",
        "colab_type": "code",
        "colab": {}
      },
      "cell_type": "code",
      "source": [
        "from IPython.core.display import display, HTML, Javascript\n",
        "from string import Template\n",
        "import json\n",
        "import IPython.display"
      ],
      "execution_count": 0,
      "outputs": []
    },
    {
      "metadata": {
        "id": "Ft5NDF3F8BOW",
        "colab_type": "code",
        "colab": {}
      },
      "cell_type": "code",
      "source": [
        "top_1000 = dataset.sort_values(\"Overall\", ascending=False).reset_index().head(1000)[[\"Name\", \"Nationality\", \"Continent\", \"Overall\", \"Club\"]]"
      ],
      "execution_count": 0,
      "outputs": []
    },
    {
      "metadata": {
        "id": "L6kc8TDy8BOX",
        "colab_type": "code",
        "colab": {}
      },
      "cell_type": "code",
      "source": [
        "Africa = top_1000[top_1000[\"Continent\"]=='Africa']\n",
        "Antarctica = top_1000[top_1000[\"Continent\"]=='Antarctica']\n",
        "Asia = top_1000[top_1000[\"Continent\"]=='Asia']\n",
        "Australia_Oceania =  top_1000[top_1000[\"Continent\"]=='Australia_Oceania']\n",
        "Europe = top_1000[top_1000[\"Continent\"]=='Europe']\n",
        "North_america = top_1000[top_1000[\"Continent\"]=='North_america']\n",
        "South_america = top_1000[top_1000[\"Continent\"]=='South_america']\n",
        "\n",
        "data = {}\n",
        "data[\"name\"] = \"DISTRIBUTION OF TOP 1000 PLAERS DUE TO NATIONALITY\"\n",
        "data[\"children\"] = []\n",
        "# Split dataset into Continents:~\n",
        "for continent in top_1000['Continent'].unique():\n",
        "    \n",
        "    continent_set = top_1000[top_1000[\"Continent\"]==continent]\n",
        "    continent_dict = {}\n",
        "    continent_dict[\"name\"] = continent\n",
        "    continent_dict[\"children\"] = []\n",
        "    \n",
        "    for country in continent_set['Nationality'].unique():\n",
        "        \n",
        "        countries_set = continent_set[continent_set['Nationality']==country][['Name', 'Overall']]\n",
        "        \n",
        "        country_dict = {}\n",
        "        country_dict[\"name\"] = country\n",
        "        country_dict[\"children\"] = []\n",
        "        \n",
        "        for player in countries_set.values:\n",
        "            \n",
        "            player_dict = {}\n",
        "            player_dict['name'] = player[0]\n",
        "            player_dict['size'] = player[1]\n",
        "            country_dict[\"children\"].append(player_dict)\n",
        "            \n",
        "        continent_dict['children'].append(country_dict)\n",
        "        \n",
        "    data[\"children\"].append(continent_dict)\n"
      ],
      "execution_count": 0,
      "outputs": []
    },
    {
      "metadata": {
        "id": "YRIczp9n8BOY",
        "colab_type": "code",
        "colab": {}
      },
      "cell_type": "code",
      "source": [
        "North_america_dict = {}\n",
        "North_america_dict['name'] = 'North_america'\n",
        "North_america_dict['children'] = []\n",
        "for country in North_america['Nationality'].unique():\n",
        "    list_of_countries = North_america[North_america['Nationality']==country][['Name', 'Overall']].rename(columns={'Name': 'name', 'Overall': 'size'})\n",
        "    tmp_dict = {}\n",
        "    tmp_dict[\"name\"] = country\n",
        "    tmp_dict[\"children\"] = []\n",
        "    for row in list_of_countries.values:\n",
        "        player_tmp = {}\n",
        "        player_tmp['name'] = row[0]\n",
        "        player_tmp['size'] = row[1]\n",
        "        tmp_dict[\"children\"].append(player_tmp)\n",
        "    North_america_dict['children'].append(tmp_dict)"
      ],
      "execution_count": 0,
      "outputs": []
    },
    {
      "metadata": {
        "id": "aNtltVmM8BOZ",
        "colab_type": "code",
        "colab": {}
      },
      "cell_type": "code",
      "source": [
        "html_string = \"\"\"\n",
        "<!DOCTYPE html>\n",
        "<meta charset=\"utf-8\">\n",
        "<style>\n",
        "\n",
        ".node {\n",
        "  cursor: pointer;\n",
        "}\n",
        "\n",
        ".node:hover {\n",
        "  stroke: #000;\n",
        "  stroke-width: 1.5px;\n",
        "}\n",
        "\n",
        ".node--leaf {\n",
        "  fill: white;\n",
        "}\n",
        "\n",
        ".label {\n",
        "  font: 11px \"Helvetica Neue\", Helvetica, Arial, sans-serif;\n",
        "  text-anchor: middle;\n",
        "  text-shadow: 0 1px 0 #fff, 1px 0 0 #fff, -1px 0 0 #fff, 0 -1px 0 #fff;\n",
        "}\n",
        "\n",
        ".label,\n",
        ".node--root,\n",
        ".node--leaf {\n",
        "  pointer-events: none;\n",
        "}\n",
        "\n",
        "</style>\n",
        "<svg width=\"800\" height=\"1000\"></svg>\n",
        "\"\"\""
      ],
      "execution_count": 0,
      "outputs": []
    },
    {
      "metadata": {
        "id": "B9urThmV8BOb",
        "colab_type": "code",
        "colab": {}
      },
      "cell_type": "code",
      "source": [
        "js_string=\"\"\"\n",
        " require.config({\n",
        "    paths: {\n",
        "        d3: \"https://d3js.org/d3.v4.min\"\n",
        "     }\n",
        " });\n",
        "\n",
        "  require([\"d3\"], function(d3) {\n",
        "\n",
        "   console.log(d3);\n",
        "\n",
        "var svg = d3.select(\"svg\"),\n",
        "    margin = 20,\n",
        "    diameter = +svg.attr(\"width\"),\n",
        "    g = svg.append(\"g\").attr(\"transform\", \"translate(\" + diameter / 2 + \",\" + diameter / 2 + \")\");\n",
        "\n",
        "var color = d3.scaleSequential(d3.interpolatePlasma)\n",
        "    .domain([-4, 4]);\n",
        "\n",
        "var pack = d3.pack()\n",
        "    .size([diameter - margin, diameter - margin])\n",
        "    .padding(2);\n",
        "\n",
        "d3.json(\"output.json\", function(error, root) {\n",
        "  if (error) throw error;\n",
        "\n",
        "  root = d3.hierarchy(root)\n",
        "      .sum(function(d) { return d.size; })\n",
        "      .sort(function(a, b) { return b.value - a.value; });\n",
        "\n",
        "  var focus = root,\n",
        "      nodes = pack(root).descendants(),\n",
        "      view;\n",
        "\n",
        "  var circle = g.selectAll(\"circle\")\n",
        "    .data(nodes)\n",
        "    .enter().append(\"circle\")\n",
        "    .attr(\"class\", function(d) { return d.parent ? d.children ? \"node\" : \"node node--leaf\" : \"node node--root\"; })\n",
        "      .style(\"fill\", function(d) { return d.children ? color(d.depth) : null; })\n",
        "      .on(\"click\", function(d) { if (focus !== d) zoom(d), d3.event.stopPropagation(); });\n",
        "\n",
        "  var text = g.selectAll(\"text\")\n",
        "    .data(nodes)\n",
        "    .enter().append(\"text\")\n",
        "      .attr(\"class\", \"label\")\n",
        "      .style(\"fill-opacity\", function(d) { return d.parent === root ? 1 : 0; })\n",
        "      .style(\"display\", function(d) { return d.parent === root ? \"inline\" : \"none\"; })\n",
        "      .text(function(d) { return d.data.name; });\n",
        "\n",
        "  var node = g.selectAll(\"circle,text\");\n",
        "\n",
        "  svg\n",
        "      .style(\"background\", color(-1))\n",
        "      .on(\"click\", function() { zoom(root); });\n",
        "\n",
        "  zoomTo([root.x, root.y, root.r * 2 + margin]);\n",
        "\n",
        "  function zoom(d) {\n",
        "    var focus0 = focus; focus = d;\n",
        "\n",
        "    var transition = d3.transition()\n",
        "        .duration(d3.event.altKey ? 7500 : 750)\n",
        "        .tween(\"zoom\", function(d) {\n",
        "          var i = d3.interpolateZoom(view, [focus.x, focus.y, focus.r * 2 + margin]);\n",
        "          return function(t) { zoomTo(i(t)); };\n",
        "        });\n",
        "\n",
        "    transition.selectAll(\"text\")\n",
        "      .filter(function(d) { return d.parent === focus || this.style.display === \"inline\"; })\n",
        "        .style(\"fill-opacity\", function(d) { return d.parent === focus ? 1 : 0; })\n",
        "        .on(\"start\", function(d) { if (d.parent === focus) this.style.display = \"inline\"; })\n",
        "        .on(\"end\", function(d) { if (d.parent !== focus) this.style.display = \"none\"; });\n",
        "  }\n",
        "  function zoomTo(v) {\n",
        "    var k = diameter / v[2]; view = v;\n",
        "    node.attr(\"transform\", function(d) { return \"translate(\" + (d.x - v[0]) * k + \",\" + (d.y - v[1]) * k + \")\"; });\n",
        "    circle.attr(\"r\", function(d) { return d.r * k; });\n",
        "  }\n",
        "});\n",
        "  });\n",
        " \"\"\""
      ],
      "execution_count": 0,
      "outputs": []
    },
    {
      "metadata": {
        "id": "vsq1HIdV8BOc",
        "colab_type": "code",
        "colab": {}
      },
      "cell_type": "code",
      "source": [
        "with open('output.json', 'w') as outfile:  \n",
        "    json.dump(data, outfile)"
      ],
      "execution_count": 0,
      "outputs": []
    },
    {
      "metadata": {
        "id": "MKjJym878BOe",
        "colab_type": "code",
        "colab": {},
        "outputId": "25af60e9-9a12-4e63-e0af-9f0e5523e25b"
      },
      "cell_type": "code",
      "source": [
        "from IPython.display import display, HTML\n",
        "\n",
        "display(HTML(data=\"\"\"\n",
        "<style>\n",
        "    div#notebook-container    { height: 95%; }\n",
        "    div#menubar-container     { height: 65%; }\n",
        "    div#maintoolbar-container { height: 99%; }\n",
        "</style>\n",
        "\"\"\"))"
      ],
      "execution_count": 0,
      "outputs": [
        {
          "output_type": "display_data",
          "data": {
            "text/html": [
              "\n",
              "<style>\n",
              "    div#notebook-container    { height: 95%; }\n",
              "    div#menubar-container     { height: 65%; }\n",
              "    div#maintoolbar-container { height: 99%; }\n",
              "</style>\n"
            ],
            "text/plain": [
              "<IPython.core.display.HTML object>"
            ]
          },
          "metadata": {
            "tags": []
          }
        }
      ]
    },
    {
      "metadata": {
        "id": "LeBuHXeG8BOh",
        "colab_type": "code",
        "colab": {},
        "outputId": "dad96200-389f-4ea8-eca2-5136559ce1bb"
      },
      "cell_type": "code",
      "source": [
        "h = display(HTML(html_string))\n",
        "j = IPython.display.Javascript(js_string)\n",
        "IPython.display.display_javascript(j)\n"
      ],
      "execution_count": 0,
      "outputs": [
        {
          "output_type": "display_data",
          "data": {
            "text/html": [
              "\n",
              "<!DOCTYPE html>\n",
              "<meta charset=\"utf-8\">\n",
              "<style>\n",
              "\n",
              ".node {\n",
              "  cursor: pointer;\n",
              "}\n",
              "\n",
              ".node:hover {\n",
              "  stroke: #000;\n",
              "  stroke-width: 1.5px;\n",
              "}\n",
              "\n",
              ".node--leaf {\n",
              "  fill: white;\n",
              "}\n",
              "\n",
              ".label {\n",
              "  font: 11px \"Helvetica Neue\", Helvetica, Arial, sans-serif;\n",
              "  text-anchor: middle;\n",
              "  text-shadow: 0 1px 0 #fff, 1px 0 0 #fff, -1px 0 0 #fff, 0 -1px 0 #fff;\n",
              "}\n",
              "\n",
              ".label,\n",
              ".node--root,\n",
              ".node--leaf {\n",
              "  pointer-events: none;\n",
              "}\n",
              "\n",
              "</style>\n",
              "<svg width=\"800\" height=\"1000\"></svg>\n"
            ],
            "text/plain": [
              "<IPython.core.display.HTML object>"
            ]
          },
          "metadata": {
            "tags": []
          }
        },
        {
          "output_type": "display_data",
          "data": {
            "application/javascript": [
              "\n",
              " require.config({\n",
              "    paths: {\n",
              "        d3: \"https://d3js.org/d3.v4.min\"\n",
              "     }\n",
              " });\n",
              "\n",
              "  require([\"d3\"], function(d3) {\n",
              "\n",
              "   console.log(d3);\n",
              "\n",
              "var svg = d3.select(\"svg\"),\n",
              "    margin = 20,\n",
              "    diameter = +svg.attr(\"width\"),\n",
              "    g = svg.append(\"g\").attr(\"transform\", \"translate(\" + diameter / 2 + \",\" + diameter / 2 + \")\");\n",
              "\n",
              "var color = d3.scaleSequential(d3.interpolatePlasma)\n",
              "    .domain([-4, 4]);\n",
              "\n",
              "var pack = d3.pack()\n",
              "    .size([diameter - margin, diameter - margin])\n",
              "    .padding(2);\n",
              "\n",
              "d3.json(\"output.json\", function(error, root) {\n",
              "  if (error) throw error;\n",
              "\n",
              "  root = d3.hierarchy(root)\n",
              "      .sum(function(d) { return d.size; })\n",
              "      .sort(function(a, b) { return b.value - a.value; });\n",
              "\n",
              "  var focus = root,\n",
              "      nodes = pack(root).descendants(),\n",
              "      view;\n",
              "\n",
              "  var circle = g.selectAll(\"circle\")\n",
              "    .data(nodes)\n",
              "    .enter().append(\"circle\")\n",
              "    .attr(\"class\", function(d) { return d.parent ? d.children ? \"node\" : \"node node--leaf\" : \"node node--root\"; })\n",
              "      .style(\"fill\", function(d) { return d.children ? color(d.depth) : null; })\n",
              "      .on(\"click\", function(d) { if (focus !== d) zoom(d), d3.event.stopPropagation(); });\n",
              "\n",
              "  var text = g.selectAll(\"text\")\n",
              "    .data(nodes)\n",
              "    .enter().append(\"text\")\n",
              "      .attr(\"class\", \"label\")\n",
              "      .style(\"fill-opacity\", function(d) { return d.parent === root ? 1 : 0; })\n",
              "      .style(\"display\", function(d) { return d.parent === root ? \"inline\" : \"none\"; })\n",
              "      .text(function(d) { return d.data.name; });\n",
              "\n",
              "  var node = g.selectAll(\"circle,text\");\n",
              "\n",
              "  svg\n",
              "      .style(\"background\", color(-1))\n",
              "      .on(\"click\", function() { zoom(root); });\n",
              "\n",
              "  zoomTo([root.x, root.y, root.r * 2 + margin]);\n",
              "\n",
              "  function zoom(d) {\n",
              "    var focus0 = focus; focus = d;\n",
              "\n",
              "    var transition = d3.transition()\n",
              "        .duration(d3.event.altKey ? 7500 : 750)\n",
              "        .tween(\"zoom\", function(d) {\n",
              "          var i = d3.interpolateZoom(view, [focus.x, focus.y, focus.r * 2 + margin]);\n",
              "          return function(t) { zoomTo(i(t)); };\n",
              "        });\n",
              "\n",
              "    transition.selectAll(\"text\")\n",
              "      .filter(function(d) { return d.parent === focus || this.style.display === \"inline\"; })\n",
              "        .style(\"fill-opacity\", function(d) { return d.parent === focus ? 1 : 0; })\n",
              "        .on(\"start\", function(d) { if (d.parent === focus) this.style.display = \"inline\"; })\n",
              "        .on(\"end\", function(d) { if (d.parent !== focus) this.style.display = \"none\"; });\n",
              "  }\n",
              "  function zoomTo(v) {\n",
              "    var k = diameter / v[2]; view = v;\n",
              "    node.attr(\"transform\", function(d) { return \"translate(\" + (d.x - v[0]) * k + \",\" + (d.y - v[1]) * k + \")\"; });\n",
              "    circle.attr(\"r\", function(d) { return d.r * k; });\n",
              "  }\n",
              "});\n",
              "  });\n",
              " "
            ]
          },
          "metadata": {
            "tags": []
          }
        }
      ]
    },
    {
      "metadata": {
        "id": "dOuT2BfJ8BOj",
        "colab_type": "text"
      },
      "cell_type": "markdown",
      "source": [
        "Geographic distribution of players\n",
        "\n",
        "Circle-packing is the arrangement of circles inside some demarcation so that none of the circles overlap. Circle packing also displays hierarchy where you can get smaller clusters of circles packed within a bigger circle which itself is arranged next to or within other circles. The D3.js plot will be interactive and dynamic, where one is able to invoke zoomable animations at different regions and clusters with the click of a mouse button. The D3.js plot will be interactive and dynamic, where one is able to invoke zoomable animations at different regions and clusters with the click of a mouse button. Each of the player’s nationality was mapped to its respective continent. There were 162 distinct Nationality values in the dataset and these countries were mapped to 6 continents: Asia, Europe, Africa, North America, South America and Australia/Oceania. In the plot, the 6 continents will be the parent class (outer circles). We can dive deeper within this class to find the countries (sub-class / sub-circles) and within each country, we will find the players (inner circles). The size of the player circle is determined by the Overall variable. A continent dictionary was created with the names of the continents as the keys and the list of countries as the values for each key. A function was defined to assign the continent for each country. The top 2000 players were chosen based on the overall value. Groupings of the players were hence identified using the Nationality and Continent. This grouping will be displayed with the circle graph plot and is fed into the json file. The data to be displayed is stored in the json file."
      ]
    },
    {
      "metadata": {
        "id": "KFXjdmzN8BOk",
        "colab_type": "text"
      },
      "cell_type": "markdown",
      "source": [
        "Grouping players by Age"
      ]
    },
    {
      "metadata": {
        "id": "TJDb5nNO8BOk",
        "colab_type": "code",
        "colab": {},
        "outputId": "6ad75894-c98b-487f-aa21-7ff5afbeddb0"
      },
      "cell_type": "code",
      "source": [
        "plt.figure(figsize=(16,8))\n",
        "sns.set_style(\"whitegrid\")\n",
        "plt.title('Grouping players by Age', fontsize=20, fontweight='bold', y=1.05,)\n",
        "plt.xlabel('Number of players', fontsize=15)\n",
        "plt.ylabel('Players Age', fontsize=15)\n",
        "sns.countplot(x=\"Age\", data=dataset, palette=\"hls\");\n",
        "plt.show()"
      ],
      "execution_count": 0,
      "outputs": [
        {
          "output_type": "display_data",
          "data": {
            "image/png": "[encoded data removed]",
            "text/plain": [
              "<Figure size 1152x576 with 1 Axes>"
            ]
          },
          "metadata": {
            "tags": [],
            "needs_background": "light"
          }
        }
      ]
    },
    {
      "metadata": {
        "id": "54v9TxPA8BOn",
        "colab_type": "text"
      },
      "cell_type": "markdown",
      "source": [
        "Grouping players by Preffered Position"
      ]
    },
    {
      "metadata": {
        "id": "ZrI01t6O8BOn",
        "colab_type": "code",
        "colab": {},
        "outputId": "5e00d7a2-9647-4e4b-9cd2-0de3309709fa"
      },
      "cell_type": "code",
      "source": [
        "plt.figure(figsize=(16,8))\n",
        "sns.set_style(\"whitegrid\")\n",
        "plt.title('Grouping players by Preffered Position', fontsize=20, fontweight='bold', y=1.05,)\n",
        "plt.xlabel('Number of players', fontsize=15)\n",
        "plt.ylabel('Players Age', fontsize=15)\n",
        "sns.countplot(x=\"Position\", data=dataset, palette=\"hls\");\n",
        "plt.show()"
      ],
      "execution_count": 0,
      "outputs": [
        {
          "output_type": "display_data",
          "data": {
            "image/png": "[encoded data removed]",
            "text/plain": [
              "<Figure size 1152x576 with 1 Axes>"
            ]
          },
          "metadata": {
            "tags": []
          }
        }
      ]
    },
    {
      "metadata": {
        "id": "TEyd1T2I8BOp",
        "colab_type": "text"
      },
      "cell_type": "markdown",
      "source": [
        "The FacetGrid\n",
        "The core seaborn utility for faceting is the FacetGrid. A FacetGrid is an object which stores some information on how you want to break up your data visualization.\n",
        "\n",
        "For example, suppose that we're interested in (as in the previous notebook) comparing strikers and goalkeepers in some way. To do this, we can create a FacetGrid with our data, telling it that we want to break the Position variable down by col (column).\n",
        "\n",
        "Since we're zeroing in on just two positions in particular, this results in a pair of grids ready for us to \"do\" something with"
      ]
    },
    {
      "metadata": {
        "id": "Q-yHBoyM8BOp",
        "colab_type": "code",
        "colab": {},
        "outputId": "baca812d-cec9-4f3c-88f0-6cbce6a476ec"
      },
      "cell_type": "code",
      "source": [
        "df = dataset\n",
        "\n",
        "g = sns.FacetGrid(df, col=\"Position\", col_wrap=6)\n",
        "g.map(sns.kdeplot, \"Overall\")\n"
      ],
      "execution_count": 0,
      "outputs": [
        {
          "output_type": "execute_result",
          "data": {
            "text/plain": [
              "<seaborn.axisgrid.FacetGrid at 0x1f6d61fd5f8>"
            ]
          },
          "metadata": {
            "tags": []
          },
          "execution_count": 70
        },
        {
          "output_type": "display_data",
          "data": {
            "image/png": "[encoded data removed]",
            "text/plain": [
              "<Figure size 1296x648 with 15 Axes>"
            ]
          },
          "metadata": {
            "tags": []
          }
        }
      ]
    },
    {
      "metadata": {
        "id": "CV_BRIfr8BOr",
        "colab_type": "code",
        "colab": {},
        "outputId": "d10a86af-18a7-4022-a269-25efa9fb79f5"
      },
      "cell_type": "code",
      "source": [
        "df = dataset[dataset['Position'].isin(['ST', 'GK'])]\n",
        "df = df[df['Club'].isin(['Real Madrid CF', 'FC Barcelona', 'Atlético Madrid'])]\n",
        "\n",
        "g = sns.FacetGrid(df, row=\"Position\", col=\"Club\")\n",
        "g.map(sns.violinplot, \"Overall\", order=[])\n",
        "\n",
        "# Obs: \n",
        "# I didn't understand the \"order\" parameter here, but, a warning is displayed without it\n",
        "# UserWarning: Using the violinplot function without specifying `order` is likely to produce an incorrect plot."
      ],
      "execution_count": 0,
      "outputs": [
        {
          "output_type": "execute_result",
          "data": {
            "text/plain": [
              "<seaborn.axisgrid.FacetGrid at 0x1f6da3367b8>"
            ]
          },
          "metadata": {
            "tags": []
          },
          "execution_count": 71
        },
        {
          "output_type": "display_data",
          "data": {
            "image/png": "[encoded data removed]",
            "text/plain": [
              "<Figure size 648x432 with 6 Axes>"
            ]
          },
          "metadata": {
            "tags": []
          }
        }
      ]
    },
    {
      "metadata": {
        "id": "vEI0oTY48BOt",
        "colab_type": "code",
        "colab": {},
        "outputId": "354d8ec0-65d8-4feb-bc08-76f02fd1e75a"
      },
      "cell_type": "code",
      "source": [
        "sns.pairplot(dataset[['Overall', 'Potential', 'Value']])"
      ],
      "execution_count": 0,
      "outputs": [
        {
          "output_type": "execute_result",
          "data": {
            "text/plain": [
              "<seaborn.axisgrid.PairGrid at 0x1f6db88bc50>"
            ]
          },
          "metadata": {
            "tags": []
          },
          "execution_count": 72
        },
        {
          "output_type": "display_data",
          "data": {
            "image/png": "[encoded data removed]",
            "text/plain": [
              "<Figure size 360x360 with 6 Axes>"
            ]
          },
          "metadata": {
            "tags": []
          }
        }
      ]
    },
    {
      "metadata": {
        "id": "Nqo0U2cw8BOw",
        "colab_type": "code",
        "colab": {},
        "outputId": "0f9772af-ec25-46aa-d627-c22c342f4dd8"
      },
      "cell_type": "code",
      "source": [
        "from plotly.offline import init_notebook_mode, iplot\n",
        "#plotly\n",
        "import plotly.plotly as py\n",
        "from plotly.offline import init_notebook_mode, iplot\n",
        "init_notebook_mode(connected =True)\n",
        "import plotly.graph_objs as go\n",
        "from plotly import tools\n",
        "import matplotlib.pyplot as plt     #matplotlib\n"
      ],
      "execution_count": 0,
      "outputs": [
        {
          "output_type": "display_data",
          "data": {
            "text/html": [
              "        <script type=\"text/javascript\">\n",
              "        window.PlotlyConfig = {MathJaxConfig: 'local'};\n",
              "        if (window.MathJax) {MathJax.Hub.Config({SVG: {font: \"STIX-Web\"}});}\n",
              "        if (typeof require !== 'undefined') {\n",
              "        require.undef(\"plotly\");\n",
              "        requirejs.config({\n",
              "            paths: {\n",
              "                'plotly': ['https://cdn.plot.ly/plotly-latest.min']\n",
              "            }\n",
              "        });\n",
              "        require(['plotly'], function(Plotly) {\n",
              "            window._Plotly = Plotly;\n",
              "        });\n",
              "        }\n",
              "        </script>\n",
              "        "
            ]
          },
          "metadata": {
            "tags": []
          }
        }
      ]
    },
    {
      "metadata": {
        "id": "le0HCX1Q8BOz",
        "colab_type": "text"
      },
      "cell_type": "markdown",
      "source": [
        "Club Rates of the Top 100 Players with Pie Plot"
      ]
    },
    {
      "metadata": {
        "id": "0i2ro1t68BOz",
        "colab_type": "code",
        "colab": {}
      },
      "cell_type": "code",
      "source": [
        "import plotly.graph_objs as go\n",
        "from plotly.offline import download_plotlyjs, init_notebook_mode, plot, iplot"
      ],
      "execution_count": 0,
      "outputs": []
    },
    {
      "metadata": {
        "id": "okQmCsQ88BO0",
        "colab_type": "text"
      },
      "cell_type": "markdown",
      "source": [
        "# Club Rates of Top 100 Players"
      ]
    },
    {
      "metadata": {
        "id": "Anih3EdB8BO1",
        "colab_type": "code",
        "colab": {},
        "outputId": "3106eced-2fd5-4594-ce90-a7e33d370f10"
      },
      "cell_type": "code",
      "source": [
        "#Prepare Data Frame\n",
        "d_frame = dataset.iloc[:100,:]\n",
        "donut= d_frame.Club.value_counts()\n",
        "labels = d_frame.Club.value_counts().index\n",
        "\n",
        "#Creat figure\n",
        "fig = {\n",
        "    \"data\":\n",
        "    [\n",
        "        {\n",
        "            \"values\": donut,\n",
        "            \"labels\": labels,\n",
        "            \"domain\": {\"x\": [0, 1]},\n",
        "            \"name\": \"Clubs Rate\",\n",
        "            \"hoverinfo\": \"label+percent+name\",\n",
        "            \"hole\": .4,\n",
        "            \"type\": \"pie\"\n",
        "        }, \n",
        "    ],\n",
        "    \"layout\":\n",
        "    {\n",
        "        \"title\":\"Club rates of the top 100 players\",\n",
        "        \"annotations\":\n",
        "        [\n",
        "            { \n",
        "                \"font\":{\"size\":20},\n",
        "                \"showarrow\":False,\n",
        "                \"text\": \"\",\n",
        "                \"x\": 0,\n",
        "                \"y\": 1\n",
        "            },\n",
        "        ]\n",
        "    }\n",
        "}\n",
        "iplot(fig)"
      ],
      "execution_count": 0,
      "outputs": [
        {
          "output_type": "display_data",
          "data": {
            "application/vnd.plotly.v1+json": {
              "config": {
                "linkText": "Export to plot.ly",
                "plotlyServerURL": "https://plot.ly",
                "responsive": true,
                "showLink": false
              },
              "data": [
                {
                  "domain": {
                    "x": [
                      0,
                      1
                    ]
                  },
                  "hole": 0.4,
                  "hoverinfo": "label+percent+name",
                  "labels": [
                    "Real Madrid CF",
                    "FC Bayern Munich",
                    "Juventus",
                    "FC Barcelona",
                    "Chelsea",
                    "Paris Saint-Germain",
                    "Tottenham Hotspur",
                    "Manchester United",
                    "Manchester City",
                    "Atlético Madrid",
                    "Arsenal",
                    "Napoli",
                    "Borussia Dortmund",
                    "AS Monaco",
                    "Inter",
                    "Liverpool",
                    "Roma",
                    "Milan",
                    "AS Saint-Étienne",
                    "Beşiktaş JK",
                    "Athletic Club de Bilbao",
                    "Bayer 04 Leverkusen"
                  ],
                  "name": "Clubs Rate",
                  "type": "pie",
                  "uid": "ebb8efe3-f525-4588-8f6e-f36a7fde7e07",
                  "values": [
                    13,
                    12,
                    9,
                    8,
                    7,
                    6,
                    6,
                    6,
                    6,
                    5,
                    4,
                    3,
                    3,
                    2,
                    2,
                    2,
                    1,
                    1,
                    1,
                    1,
                    1,
                    1
                  ]
                }
              ],
              "layout": {
                "annotations": [
                  {
                    "font": {
                      "size": 20
                    },
                    "showarrow": false,
                    "text": "",
                    "x": 0,
                    "y": 1
                  }
                ],
                "title": {
                  "text": "Club rates of the top 100 players"
                }
              }
            },
            "text/html": [
              "<div>\n",
              "        \n",
              "        \n",
              "            <div id=\"00eed100-f027-407b-839e-73126c6ec55d\" class=\"plotly-graph-div\" style=\"height:525px; width:100%;\"></div>\n",
              "            <script type=\"text/javascript\">\n",
              "                require([\"plotly\"], function(Plotly) {\n",
              "                    window.PLOTLYENV=window.PLOTLYENV || {};\n",
              "                    window.PLOTLYENV.BASE_URL='https://plot.ly';\n",
              "                    \n",
              "                if (document.getElementById(\"00eed100-f027-407b-839e-73126c6ec55d\")) {\n",
              "                    Plotly.newPlot(\n",
              "                        '00eed100-f027-407b-839e-73126c6ec55d',\n",
              "                        [{\"domain\": {\"x\": [0, 1]}, \"hole\": 0.4, \"hoverinfo\": \"label+percent+name\", \"labels\": [\"Real Madrid CF\", \"FC Bayern Munich\", \"Juventus\", \"FC Barcelona\", \"Chelsea\", \"Paris Saint-Germain\", \"Tottenham Hotspur\", \"Manchester United\", \"Manchester City\", \"Atl\\u00e9tico Madrid\", \"Arsenal\", \"Napoli\", \"Borussia Dortmund\", \"AS Monaco\", \"Inter\", \"Liverpool\", \"Roma\", \"Milan\", \"AS Saint-\\u00c9tienne\", \"Be\\u015fikta\\u015f JK\", \"Athletic Club de Bilbao\", \"Bayer 04 Leverkusen\"], \"name\": \"Clubs Rate\", \"type\": \"pie\", \"uid\": \"2b6ec9fd-343d-4c5a-8e90-e9c079fd5f09\", \"values\": [13, 12, 9, 8, 7, 6, 6, 6, 6, 5, 4, 3, 3, 2, 2, 2, 1, 1, 1, 1, 1, 1]}],\n",
              "                        {\"annotations\": [{\"font\": {\"size\": 20}, \"showarrow\": false, \"text\": \"\", \"x\": 0, \"y\": 1}], \"title\": {\"text\": \"Club rates of the top 100 players\"}},\n",
              "                        {\"showLink\": false, \"linkText\": \"Export to plot.ly\", \"plotlyServerURL\": \"https://plot.ly\", \"responsive\": true}\n",
              "                    ).then(function(){\n",
              "                            \n",
              "var gd = document.getElementById('00eed100-f027-407b-839e-73126c6ec55d');\n",
              "var x = new MutationObserver(function (mutations, observer) {{\n",
              "        var display = window.getComputedStyle(gd).display;\n",
              "        if (!display || display === 'none') {{\n",
              "            console.log([gd, 'removed!']);\n",
              "            Plotly.purge(gd);\n",
              "            observer.disconnect();\n",
              "        }}\n",
              "}});\n",
              "\n",
              "// Listen for the removal of the full notebook cells\n",
              "var notebookContainer = gd.closest('#notebook-container');\n",
              "if (notebookContainer) {{\n",
              "    x.observe(notebookContainer, {childList: true});\n",
              "}}\n",
              "\n",
              "// Listen for the clearing of the current output cell\n",
              "var outputEl = gd.closest('.output');\n",
              "if (outputEl) {{\n",
              "    x.observe(outputEl, {childList: true});\n",
              "}}\n",
              "\n",
              "                        })\n",
              "                };\n",
              "                });\n",
              "            </script>\n",
              "        </div>"
            ]
          },
          "metadata": {
            "tags": []
          }
        }
      ]
    },
    {
      "metadata": {
        "id": "3jwcyeul8BO4",
        "colab_type": "text"
      },
      "cell_type": "markdown",
      "source": [
        " Top 10 Players 'Ball Control', 'Dribbling' and 'Shot Power' Features Comparison with Scatter 3D Plot"
      ]
    },
    {
      "metadata": {
        "id": "cfTfAWon8BO4",
        "colab_type": "code",
        "colab": {},
        "outputId": "e33492bc-8236-49ae-8cf7-5cf23b779e6b"
      },
      "cell_type": "code",
      "source": [
        "#Now let's see the top 10 countries with the have more players\n",
        "dataset.groupby(\"Nationality\").Name.count().sort_values(ascending=False).head(10)"
      ],
      "execution_count": 0,
      "outputs": [
        {
          "output_type": "execute_result",
          "data": {
            "text/plain": [
              "Nationality\n",
              "England        1630\n",
              "Germany        1140\n",
              "Spain          1019\n",
              "France          978\n",
              "Argentina       965\n",
              "Brazil          812\n",
              "Italy           799\n",
              "Colombia        592\n",
              "Japan           469\n",
              "Netherlands     429\n",
              "Name: Name, dtype: int64"
            ]
          },
          "metadata": {
            "tags": []
          },
          "execution_count": 76
        }
      ]
    },
    {
      "metadata": {
        "id": "-8ufdRmd8BO5",
        "colab_type": "text"
      },
      "cell_type": "markdown",
      "source": [
        "# Map Distribution of the Players and How many players from the same Country?"
      ]
    },
    {
      "metadata": {
        "id": "vXu-cDxt8BO6",
        "colab_type": "code",
        "colab": {},
        "outputId": "96c7c52c-4ddc-4fbc-c694-31ac499acc00"
      },
      "cell_type": "code",
      "source": [
        "#How many players are from the same country?\n",
        "df = dataset['Nationality'].value_counts()\n",
        "\n",
        "iplot([\n",
        "    go.Choropleth(\n",
        "    locationmode='country names',\n",
        "    locations=df.index.values,\n",
        "    text= df.index,\n",
        "    z=df.values,\n",
        "    colorscale= 'Jet'\n",
        "    )\n",
        "])"
      ],
      "execution_count": 0,
      "outputs": [
        {
          "output_type": "display_data",
          "data": {
            "application/vnd.plotly.v1+json": {
              "config": {
                "linkText": "Export to plot.ly",
                "plotlyServerURL": "https://plot.ly",
                "responsive": true,
                "showLink": false
              },
              "data": [
                {
                  "colorscale": "Jet",
                  "locationmode": "country names",
                  "locations": [
                    "England",
                    "Germany",
                    "Spain",
                    "France",
                    "Argentina",
                    "Brazil",
                    "Italy",
                    "Colombia",
                    "Japan",
                    "Netherlands",
                    "Republic of Ireland",
                    "United States",
                    "Chile",
                    "Sweden",
                    "Portugal",
                    "Mexico",
                    "Denmark",
                    "Poland",
                    "Norway",
                    "Korea Republic",
                    "Saudi Arabia",
                    "Russia",
                    "Scotland",
                    "Turkey",
                    "Belgium",
                    "Austria",
                    "Switzerland",
                    "Australia",
                    "Uruguay",
                    "Serbia",
                    "Senegal",
                    "Nigeria",
                    "Wales",
                    "Ghana",
                    "Croatia",
                    "Ivory Coast",
                    "Greece",
                    "Cameroon",
                    "Northern Ireland",
                    "Morocco",
                    "South Africa",
                    "Czech Republic",
                    "Paraguay",
                    "Slovenia",
                    "Slovakia",
                    "Finland",
                    "Romania",
                    "DR Congo",
                    "Algeria",
                    "Bosnia Herzegovina",
                    "Canada",
                    "Iceland",
                    "Venezuela",
                    "Ukraine",
                    "Mali",
                    "New Zealand",
                    "Jamaica",
                    "Ecuador",
                    "Hungary",
                    "Albania",
                    "Bulgaria",
                    "Kosovo",
                    "Egypt",
                    "Georgia",
                    "Tunisia",
                    "India",
                    "China PR",
                    "Bolivia",
                    "Peru",
                    "Costa Rica",
                    "Guinea",
                    "Montenegro",
                    "Congo",
                    "Cape Verde",
                    "FYR Macedonia",
                    "Iran",
                    "Guinea Bissau",
                    "Panama",
                    "Gambia",
                    "Angola",
                    "Haiti",
                    "Benin",
                    "Burkina Faso",
                    "Armenia",
                    "Honduras",
                    "Gabon",
                    "Lithuania",
                    "Israel",
                    "Zimbabwe",
                    "Curacao",
                    "Cyprus",
                    "Belarus",
                    "Trinidad & Tobago",
                    "Iraq",
                    "Comoros",
                    "Sierra Leone",
                    "Togo",
                    "Luxembourg",
                    "Estonia",
                    "Azerbaijan",
                    "Zambia",
                    "Latvia",
                    "Kenya",
                    "Equatorial Guinea",
                    "Faroe Islands",
                    "Korea DPR",
                    "Syria",
                    "Moldova",
                    "Qatar",
                    "Guyana",
                    "Lebanon",
                    "Uzbekistan",
                    "Antigua & Barbuda",
                    "Madagascar",
                    "Palestine",
                    "Bermuda",
                    "Montserrat",
                    "Central African Rep.",
                    "Uganda",
                    "Liechtenstein",
                    "Kazakhstan",
                    "Malta",
                    "Dominican Republic",
                    "Afghanistan",
                    "St Kitts Nevis",
                    "Philippines",
                    "Suriname",
                    "Niger",
                    "Mozambique",
                    "New Caledonia",
                    "Namibia",
                    "Ethiopia",
                    "Mauritania",
                    "Liberia",
                    "Gibraltar",
                    "El Salvador",
                    "Thailand",
                    "Kuwait",
                    "Puerto Rico",
                    "Tanzania",
                    "Libya",
                    "Chad",
                    "Sudan",
                    "Cuba",
                    "Swaziland",
                    "St Lucia",
                    "Barbados",
                    "Belize",
                    "Guam",
                    "Fiji",
                    "Guatemala",
                    "Somalia",
                    "Burundi",
                    "Sri Lanka",
                    "Mauritius",
                    "Kyrgyzstan",
                    "Hong Kong",
                    "Turkmenistan",
                    "Oman",
                    "Eritrea",
                    "São Tomé & Príncipe",
                    "Vietnam",
                    "Brunei Darussalam",
                    "San Marino",
                    "Grenada"
                  ],
                  "text": [
                    "England",
                    "Germany",
                    "Spain",
                    "France",
                    "Argentina",
                    "Brazil",
                    "Italy",
                    "Colombia",
                    "Japan",
                    "Netherlands",
                    "Republic of Ireland",
                    "United States",
                    "Chile",
                    "Sweden",
                    "Portugal",
                    "Mexico",
                    "Denmark",
                    "Poland",
                    "Norway",
                    "Korea Republic",
                    "Saudi Arabia",
                    "Russia",
                    "Scotland",
                    "Turkey",
                    "Belgium",
                    "Austria",
                    "Switzerland",
                    "Australia",
                    "Uruguay",
                    "Serbia",
                    "Senegal",
                    "Nigeria",
                    "Wales",
                    "Ghana",
                    "Croatia",
                    "Ivory Coast",
                    "Greece",
                    "Cameroon",
                    "Northern Ireland",
                    "Morocco",
                    "South Africa",
                    "Czech Republic",
                    "Paraguay",
                    "Slovenia",
                    "Slovakia",
                    "Finland",
                    "Romania",
                    "DR Congo",
                    "Algeria",
                    "Bosnia Herzegovina",
                    "Canada",
                    "Iceland",
                    "Venezuela",
                    "Ukraine",
                    "Mali",
                    "New Zealand",
                    "Jamaica",
                    "Ecuador",
                    "Hungary",
                    "Albania",
                    "Bulgaria",
                    "Kosovo",
                    "Egypt",
                    "Georgia",
                    "Tunisia",
                    "India",
                    "China PR",
                    "Bolivia",
                    "Peru",
                    "Costa Rica",
                    "Guinea",
                    "Montenegro",
                    "Congo",
                    "Cape Verde",
                    "FYR Macedonia",
                    "Iran",
                    "Guinea Bissau",
                    "Panama",
                    "Gambia",
                    "Angola",
                    "Haiti",
                    "Benin",
                    "Burkina Faso",
                    "Armenia",
                    "Honduras",
                    "Gabon",
                    "Lithuania",
                    "Israel",
                    "Zimbabwe",
                    "Curacao",
                    "Cyprus",
                    "Belarus",
                    "Trinidad & Tobago",
                    "Iraq",
                    "Comoros",
                    "Sierra Leone",
                    "Togo",
                    "Luxembourg",
                    "Estonia",
                    "Azerbaijan",
                    "Zambia",
                    "Latvia",
                    "Kenya",
                    "Equatorial Guinea",
                    "Faroe Islands",
                    "Korea DPR",
                    "Syria",
                    "Moldova",
                    "Qatar",
                    "Guyana",
                    "Lebanon",
                    "Uzbekistan",
                    "Antigua & Barbuda",
                    "Madagascar",
                    "Palestine",
                    "Bermuda",
                    "Montserrat",
                    "Central African Rep.",
                    "Uganda",
                    "Liechtenstein",
                    "Kazakhstan",
                    "Malta",
                    "Dominican Republic",
                    "Afghanistan",
                    "St Kitts Nevis",
                    "Philippines",
                    "Suriname",
                    "Niger",
                    "Mozambique",
                    "New Caledonia",
                    "Namibia",
                    "Ethiopia",
                    "Mauritania",
                    "Liberia",
                    "Gibraltar",
                    "El Salvador",
                    "Thailand",
                    "Kuwait",
                    "Puerto Rico",
                    "Tanzania",
                    "Libya",
                    "Chad",
                    "Sudan",
                    "Cuba",
                    "Swaziland",
                    "St Lucia",
                    "Barbados",
                    "Belize",
                    "Guam",
                    "Fiji",
                    "Guatemala",
                    "Somalia",
                    "Burundi",
                    "Sri Lanka",
                    "Mauritius",
                    "Kyrgyzstan",
                    "Hong Kong",
                    "Turkmenistan",
                    "Oman",
                    "Eritrea",
                    "São Tomé & Príncipe",
                    "Vietnam",
                    "Brunei Darussalam",
                    "San Marino",
                    "Grenada"
                  ],
                  "type": "choropleth",
                  "uid": "905a3685-6119-4ee5-b890-2963a3831bec",
                  "z": [
                    1630,
                    1140,
                    1019,
                    978,
                    965,
                    812,
                    799,
                    592,
                    469,
                    429,
                    417,
                    381,
                    375,
                    368,
                    367,
                    360,
                    346,
                    337,
                    333,
                    330,
                    329,
                    306,
                    300,
                    291,
                    272,
                    266,
                    233,
                    227,
                    153,
                    133,
                    129,
                    126,
                    123,
                    117,
                    109,
                    101,
                    98,
                    86,
                    86,
                    78,
                    77,
                    73,
                    69,
                    65,
                    64,
                    62,
                    59,
                    58,
                    57,
                    55,
                    55,
                    53,
                    51,
                    49,
                    46,
                    38,
                    37,
                    37,
                    37,
                    35,
                    33,
                    32,
                    32,
                    31,
                    31,
                    30,
                    30,
                    30,
                    30,
                    29,
                    25,
                    25,
                    22,
                    22,
                    17,
                    17,
                    16,
                    16,
                    15,
                    15,
                    14,
                    14,
                    14,
                    14,
                    13,
                    12,
                    12,
                    12,
                    11,
                    11,
                    11,
                    9,
                    9,
                    9,
                    9,
                    9,
                    8,
                    8,
                    8,
                    7,
                    7,
                    7,
                    7,
                    6,
                    6,
                    6,
                    6,
                    6,
                    6,
                    5,
                    5,
                    5,
                    5,
                    4,
                    4,
                    4,
                    4,
                    4,
                    4,
                    3,
                    3,
                    3,
                    3,
                    3,
                    3,
                    3,
                    3,
                    3,
                    3,
                    2,
                    2,
                    2,
                    2,
                    2,
                    2,
                    2,
                    2,
                    2,
                    2,
                    2,
                    2,
                    2,
                    2,
                    2,
                    1,
                    1,
                    1,
                    1,
                    1,
                    1,
                    1,
                    1,
                    1,
                    1,
                    1,
                    1,
                    1,
                    1,
                    1,
                    1,
                    1,
                    1,
                    1,
                    1,
                    1
                  ]
                }
              ],
              "layout": {}
            },
            "text/html": [
              "<div>\n",
              "        \n",
              "        \n",
              "            <div id=\"62a543b3-739d-482f-9fd4-701c9138bb75\" class=\"plotly-graph-div\" style=\"height:525px; width:100%;\"></div>\n",
              "            <script type=\"text/javascript\">\n",
              "                require([\"plotly\"], function(Plotly) {\n",
              "                    window.PLOTLYENV=window.PLOTLYENV || {};\n",
              "                    window.PLOTLYENV.BASE_URL='https://plot.ly';\n",
              "                    \n",
              "                if (document.getElementById(\"62a543b3-739d-482f-9fd4-701c9138bb75\")) {\n",
              "                    Plotly.newPlot(\n",
              "                        '62a543b3-739d-482f-9fd4-701c9138bb75',\n",
              "                        [{\"colorscale\": \"Jet\", \"locationmode\": \"country names\", \"locations\": [\"England\", \"Germany\", \"Spain\", \"France\", \"Argentina\", \"Brazil\", \"Italy\", \"Colombia\", \"Japan\", \"Netherlands\", \"Republic of Ireland\", \"United States\", \"Chile\", \"Sweden\", \"Portugal\", \"Mexico\", \"Denmark\", \"Poland\", \"Norway\", \"Korea Republic\", \"Saudi Arabia\", \"Russia\", \"Scotland\", \"Turkey\", \"Belgium\", \"Austria\", \"Switzerland\", \"Australia\", \"Uruguay\", \"Serbia\", \"Senegal\", \"Nigeria\", \"Wales\", \"Ghana\", \"Croatia\", \"Ivory Coast\", \"Greece\", \"Cameroon\", \"Northern Ireland\", \"Morocco\", \"South Africa\", \"Czech Republic\", \"Paraguay\", \"Slovenia\", \"Slovakia\", \"Finland\", \"Romania\", \"DR Congo\", \"Algeria\", \"Bosnia Herzegovina\", \"Canada\", \"Iceland\", \"Venezuela\", \"Ukraine\", \"Mali\", \"New Zealand\", \"Jamaica\", \"Ecuador\", \"Hungary\", \"Albania\", \"Bulgaria\", \"Kosovo\", \"Egypt\", \"Georgia\", \"Tunisia\", \"India\", \"China PR\", \"Bolivia\", \"Peru\", \"Costa Rica\", \"Guinea\", \"Montenegro\", \"Congo\", \"Cape Verde\", \"FYR Macedonia\", \"Iran\", \"Guinea Bissau\", \"Panama\", \"Gambia\", \"Angola\", \"Haiti\", \"Benin\", \"Burkina Faso\", \"Armenia\", \"Honduras\", \"Gabon\", \"Lithuania\", \"Israel\", \"Zimbabwe\", \"Curacao\", \"Cyprus\", \"Belarus\", \"Trinidad & Tobago\", \"Iraq\", \"Comoros\", \"Sierra Leone\", \"Togo\", \"Luxembourg\", \"Estonia\", \"Azerbaijan\", \"Zambia\", \"Latvia\", \"Kenya\", \"Equatorial Guinea\", \"Faroe Islands\", \"Korea DPR\", \"Syria\", \"Moldova\", \"Qatar\", \"Guyana\", \"Lebanon\", \"Uzbekistan\", \"Antigua & Barbuda\", \"Madagascar\", \"Palestine\", \"Bermuda\", \"Montserrat\", \"Central African Rep.\", \"Uganda\", \"Liechtenstein\", \"Kazakhstan\", \"Malta\", \"Dominican Republic\", \"Afghanistan\", \"St Kitts Nevis\", \"Philippines\", \"Suriname\", \"Niger\", \"Mozambique\", \"New Caledonia\", \"Namibia\", \"Ethiopia\", \"Mauritania\", \"Liberia\", \"Gibraltar\", \"El Salvador\", \"Thailand\", \"Kuwait\", \"Puerto Rico\", \"Tanzania\", \"Libya\", \"Chad\", \"Sudan\", \"Cuba\", \"Swaziland\", \"St Lucia\", \"Barbados\", \"Belize\", \"Guam\", \"Fiji\", \"Guatemala\", \"Somalia\", \"Burundi\", \"Sri Lanka\", \"Mauritius\", \"Kyrgyzstan\", \"Hong Kong\", \"Turkmenistan\", \"Oman\", \"Eritrea\", \"S\\u00e3o Tom\\u00e9 & Pr\\u00edncipe\", \"Vietnam\", \"Brunei Darussalam\", \"San Marino\", \"Grenada\"], \"text\": [\"England\", \"Germany\", \"Spain\", \"France\", \"Argentina\", \"Brazil\", \"Italy\", \"Colombia\", \"Japan\", \"Netherlands\", \"Republic of Ireland\", \"United States\", \"Chile\", \"Sweden\", \"Portugal\", \"Mexico\", \"Denmark\", \"Poland\", \"Norway\", \"Korea Republic\", \"Saudi Arabia\", \"Russia\", \"Scotland\", \"Turkey\", \"Belgium\", \"Austria\", \"Switzerland\", \"Australia\", \"Uruguay\", \"Serbia\", \"Senegal\", \"Nigeria\", \"Wales\", \"Ghana\", \"Croatia\", \"Ivory Coast\", \"Greece\", \"Cameroon\", \"Northern Ireland\", \"Morocco\", \"South Africa\", \"Czech Republic\", \"Paraguay\", \"Slovenia\", \"Slovakia\", \"Finland\", \"Romania\", \"DR Congo\", \"Algeria\", \"Bosnia Herzegovina\", \"Canada\", \"Iceland\", \"Venezuela\", \"Ukraine\", \"Mali\", \"New Zealand\", \"Jamaica\", \"Ecuador\", \"Hungary\", \"Albania\", \"Bulgaria\", \"Kosovo\", \"Egypt\", \"Georgia\", \"Tunisia\", \"India\", \"China PR\", \"Bolivia\", \"Peru\", \"Costa Rica\", \"Guinea\", \"Montenegro\", \"Congo\", \"Cape Verde\", \"FYR Macedonia\", \"Iran\", \"Guinea Bissau\", \"Panama\", \"Gambia\", \"Angola\", \"Haiti\", \"Benin\", \"Burkina Faso\", \"Armenia\", \"Honduras\", \"Gabon\", \"Lithuania\", \"Israel\", \"Zimbabwe\", \"Curacao\", \"Cyprus\", \"Belarus\", \"Trinidad & Tobago\", \"Iraq\", \"Comoros\", \"Sierra Leone\", \"Togo\", \"Luxembourg\", \"Estonia\", \"Azerbaijan\", \"Zambia\", \"Latvia\", \"Kenya\", \"Equatorial Guinea\", \"Faroe Islands\", \"Korea DPR\", \"Syria\", \"Moldova\", \"Qatar\", \"Guyana\", \"Lebanon\", \"Uzbekistan\", \"Antigua & Barbuda\", \"Madagascar\", \"Palestine\", \"Bermuda\", \"Montserrat\", \"Central African Rep.\", \"Uganda\", \"Liechtenstein\", \"Kazakhstan\", \"Malta\", \"Dominican Republic\", \"Afghanistan\", \"St Kitts Nevis\", \"Philippines\", \"Suriname\", \"Niger\", \"Mozambique\", \"New Caledonia\", \"Namibia\", \"Ethiopia\", \"Mauritania\", \"Liberia\", \"Gibraltar\", \"El Salvador\", \"Thailand\", \"Kuwait\", \"Puerto Rico\", \"Tanzania\", \"Libya\", \"Chad\", \"Sudan\", \"Cuba\", \"Swaziland\", \"St Lucia\", \"Barbados\", \"Belize\", \"Guam\", \"Fiji\", \"Guatemala\", \"Somalia\", \"Burundi\", \"Sri Lanka\", \"Mauritius\", \"Kyrgyzstan\", \"Hong Kong\", \"Turkmenistan\", \"Oman\", \"Eritrea\", \"S\\u00e3o Tom\\u00e9 & Pr\\u00edncipe\", \"Vietnam\", \"Brunei Darussalam\", \"San Marino\", \"Grenada\"], \"type\": \"choropleth\", \"uid\": \"15b1cb09-9697-41b1-a431-647be7022d10\", \"z\": [1630, 1140, 1019, 978, 965, 812, 799, 592, 469, 429, 417, 381, 375, 368, 367, 360, 346, 337, 333, 330, 329, 306, 300, 291, 272, 266, 233, 227, 153, 133, 129, 126, 123, 117, 109, 101, 98, 86, 86, 78, 77, 73, 69, 65, 64, 62, 59, 58, 57, 55, 55, 53, 51, 49, 46, 38, 37, 37, 37, 35, 33, 32, 32, 31, 31, 30, 30, 30, 30, 29, 25, 25, 22, 22, 17, 17, 16, 16, 15, 15, 14, 14, 14, 14, 13, 12, 12, 12, 11, 11, 11, 9, 9, 9, 9, 9, 8, 8, 8, 7, 7, 7, 7, 6, 6, 6, 6, 6, 6, 5, 5, 5, 5, 4, 4, 4, 4, 4, 4, 3, 3, 3, 3, 3, 3, 3, 3, 3, 3, 2, 2, 2, 2, 2, 2, 2, 2, 2, 2, 2, 2, 2, 2, 2, 1, 1, 1, 1, 1, 1, 1, 1, 1, 1, 1, 1, 1, 1, 1, 1, 1, 1, 1, 1, 1]}],\n",
              "                        {},\n",
              "                        {\"showLink\": false, \"linkText\": \"Export to plot.ly\", \"plotlyServerURL\": \"https://plot.ly\", \"responsive\": true}\n",
              "                    ).then(function(){\n",
              "                            \n",
              "var gd = document.getElementById('62a543b3-739d-482f-9fd4-701c9138bb75');\n",
              "var x = new MutationObserver(function (mutations, observer) {{\n",
              "        var display = window.getComputedStyle(gd).display;\n",
              "        if (!display || display === 'none') {{\n",
              "            console.log([gd, 'removed!']);\n",
              "            Plotly.purge(gd);\n",
              "            observer.disconnect();\n",
              "        }}\n",
              "}});\n",
              "\n",
              "// Listen for the removal of the full notebook cells\n",
              "var notebookContainer = gd.closest('#notebook-container');\n",
              "if (notebookContainer) {{\n",
              "    x.observe(notebookContainer, {childList: true});\n",
              "}}\n",
              "\n",
              "// Listen for the clearing of the current output cell\n",
              "var outputEl = gd.closest('.output');\n",
              "if (outputEl) {{\n",
              "    x.observe(outputEl, {childList: true});\n",
              "}}\n",
              "\n",
              "                        })\n",
              "                };\n",
              "                });\n",
              "            </script>\n",
              "        </div>"
            ]
          },
          "metadata": {
            "tags": []
          }
        }
      ]
    },
    {
      "metadata": {
        "id": "FUIyn5128BO7",
        "colab_type": "text"
      },
      "cell_type": "markdown",
      "source": [
        "Nationality Rates of the Top 100 Players with Pie Plot"
      ]
    },
    {
      "metadata": {
        "id": "7zIJ4y_B8BO7",
        "colab_type": "text"
      },
      "cell_type": "markdown",
      "source": [
        "# Donut Chart for Nationality rate of Top 100 players accoding to thir Club rate"
      ]
    },
    {
      "metadata": {
        "id": "N9W_zgFt8BO7",
        "colab_type": "code",
        "colab": {},
        "outputId": "72149284-8959-41a7-85b7-8d537a672ff7"
      },
      "cell_type": "code",
      "source": [
        "#Prepare Data Frame\n",
        "d_frame = dataset.iloc[:100,:]\n",
        "donut= d_frame.Nationality.value_counts()\n",
        "labels = d_frame.Nationality.value_counts().index #Country names of the top 100 players\n",
        "\n",
        "#Creat Figure\n",
        "fig = {\n",
        "    \"data\":\n",
        "    [\n",
        "        {\n",
        "            \"values\": donut,\n",
        "            \"labels\": labels,\n",
        "            \"domain\": {\"x\": [0, 1]},\n",
        "            \"name\": \"Clubs Rate\",\n",
        "            \"hoverinfo\": \"label+percent+name\",\n",
        "            \"hole\": .4,\n",
        "            \"type\": \"pie\"\n",
        "        }, \n",
        "    ],\n",
        "    \"layout\":\n",
        "    {\n",
        "        \"title\":\"Nationality rates of the top 100 players\",\n",
        "        \"annotations\":\n",
        "        [\n",
        "            { \n",
        "                \"font\":{\"size\":20},\n",
        "                \"showarrow\":False,\n",
        "                \"text\": \"\",\n",
        "                \"x\": 0,\n",
        "                \"y\": 1\n",
        "            },\n",
        "        ]\n",
        "    }\n",
        "}\n",
        "iplot(fig)\n"
      ],
      "execution_count": 0,
      "outputs": [
        {
          "output_type": "display_data",
          "data": {
            "application/vnd.plotly.v1+json": {
              "config": {
                "linkText": "Export to plot.ly",
                "plotlyServerURL": "https://plot.ly",
                "responsive": true,
                "showLink": false
              },
              "data": [
                {
                  "domain": {
                    "x": [
                      0,
                      1
                    ]
                  },
                  "hole": 0.4,
                  "hoverinfo": "label+percent+name",
                  "labels": [
                    "Spain",
                    "France",
                    "Germany",
                    "Belgium",
                    "Brazil",
                    "Italy",
                    "Argentina",
                    "Uruguay",
                    "Portugal",
                    "Croatia",
                    "England",
                    "Slovenia",
                    "Chile",
                    "Poland",
                    "Gabon",
                    "Costa Rica",
                    "Czech Republic",
                    "Sweden",
                    "Denmark",
                    "Netherlands",
                    "Austria",
                    "Colombia",
                    "Bosnia Herzegovina",
                    "Greece",
                    "Wales",
                    "Senegal",
                    "Armenia",
                    "Slovakia",
                    "Ivory Coast"
                  ],
                  "name": "Clubs Rate",
                  "type": "pie",
                  "uid": "cdf9c0a9-a52d-4eed-9bd1-8c674cca4338",
                  "values": [
                    15,
                    11,
                    11,
                    10,
                    9,
                    7,
                    5,
                    3,
                    3,
                    3,
                    2,
                    2,
                    2,
                    2,
                    1,
                    1,
                    1,
                    1,
                    1,
                    1,
                    1,
                    1,
                    1,
                    1,
                    1,
                    1,
                    1,
                    1,
                    1
                  ]
                }
              ],
              "layout": {
                "annotations": [
                  {
                    "font": {
                      "size": 20
                    },
                    "showarrow": false,
                    "text": "",
                    "x": 0,
                    "y": 1
                  }
                ],
                "title": {
                  "text": "Nationality rates of the top 100 players"
                }
              }
            },
            "text/html": [
              "<div>\n",
              "        \n",
              "        \n",
              "            <div id=\"a0c91fcc-8fe9-4ab3-89d4-31299c515640\" class=\"plotly-graph-div\" style=\"height:525px; width:100%;\"></div>\n",
              "            <script type=\"text/javascript\">\n",
              "                require([\"plotly\"], function(Plotly) {\n",
              "                    window.PLOTLYENV=window.PLOTLYENV || {};\n",
              "                    window.PLOTLYENV.BASE_URL='https://plot.ly';\n",
              "                    \n",
              "                if (document.getElementById(\"a0c91fcc-8fe9-4ab3-89d4-31299c515640\")) {\n",
              "                    Plotly.newPlot(\n",
              "                        'a0c91fcc-8fe9-4ab3-89d4-31299c515640',\n",
              "                        [{\"domain\": {\"x\": [0, 1]}, \"hole\": 0.4, \"hoverinfo\": \"label+percent+name\", \"labels\": [\"Spain\", \"France\", \"Germany\", \"Belgium\", \"Brazil\", \"Italy\", \"Argentina\", \"Uruguay\", \"Portugal\", \"Croatia\", \"England\", \"Slovenia\", \"Chile\", \"Poland\", \"Gabon\", \"Costa Rica\", \"Czech Republic\", \"Sweden\", \"Denmark\", \"Netherlands\", \"Austria\", \"Colombia\", \"Bosnia Herzegovina\", \"Greece\", \"Wales\", \"Senegal\", \"Armenia\", \"Slovakia\", \"Ivory Coast\"], \"name\": \"Clubs Rate\", \"type\": \"pie\", \"uid\": \"9f931cba-c801-437e-8040-7fa6403280b7\", \"values\": [15, 11, 11, 10, 9, 7, 5, 3, 3, 3, 2, 2, 2, 2, 1, 1, 1, 1, 1, 1, 1, 1, 1, 1, 1, 1, 1, 1, 1]}],\n",
              "                        {\"annotations\": [{\"font\": {\"size\": 20}, \"showarrow\": false, \"text\": \"\", \"x\": 0, \"y\": 1}], \"title\": {\"text\": \"Nationality rates of the top 100 players\"}},\n",
              "                        {\"showLink\": false, \"linkText\": \"Export to plot.ly\", \"plotlyServerURL\": \"https://plot.ly\", \"responsive\": true}\n",
              "                    ).then(function(){\n",
              "                            \n",
              "var gd = document.getElementById('a0c91fcc-8fe9-4ab3-89d4-31299c515640');\n",
              "var x = new MutationObserver(function (mutations, observer) {{\n",
              "        var display = window.getComputedStyle(gd).display;\n",
              "        if (!display || display === 'none') {{\n",
              "            console.log([gd, 'removed!']);\n",
              "            Plotly.purge(gd);\n",
              "            observer.disconnect();\n",
              "        }}\n",
              "}});\n",
              "\n",
              "// Listen for the removal of the full notebook cells\n",
              "var notebookContainer = gd.closest('#notebook-container');\n",
              "if (notebookContainer) {{\n",
              "    x.observe(notebookContainer, {childList: true});\n",
              "}}\n",
              "\n",
              "// Listen for the clearing of the current output cell\n",
              "var outputEl = gd.closest('.output');\n",
              "if (outputEl) {{\n",
              "    x.observe(outputEl, {childList: true});\n",
              "}}\n",
              "\n",
              "                        })\n",
              "                };\n",
              "                });\n",
              "            </script>\n",
              "        </div>"
            ]
          },
          "metadata": {
            "tags": []
          }
        }
      ]
    },
    {
      "metadata": {
        "id": "xxg9AHXk8BO9",
        "colab_type": "code",
        "colab": {},
        "outputId": "4d2091af-ce8a-4b25-ab5b-c000036fdb07"
      },
      "cell_type": "code",
      "source": [
        "df_p = dataset.groupby(['Age'])['Potential'].mean()\n",
        "df_o = dataset.groupby(['Age'])['Overall'].mean()\n",
        "\n",
        "df_summary = pd.concat([df_p, df_o], axis=1)\n",
        "\n",
        "ax = df_summary.plot()\n",
        "ax.set_ylabel('Rating')\n",
        "ax.set_title('Average Rating by Age')"
      ],
      "execution_count": 0,
      "outputs": [
        {
          "output_type": "execute_result",
          "data": {
            "text/plain": [
              "Text(0.5, 1.0, 'Average Rating by Age')"
            ]
          },
          "metadata": {
            "tags": []
          },
          "execution_count": 80
        },
        {
          "output_type": "display_data",
          "data": {
            "image/png": "[encoded data removed]",
            "text/plain": [
              "<Figure size 432x288 with 1 Axes>"
            ]
          },
          "metadata": {
            "tags": []
          }
        }
      ]
    },
    {
      "metadata": {
        "id": "9xuHN1Sh8BO-",
        "colab_type": "code",
        "colab": {}
      },
      "cell_type": "code",
      "source": [
        "import numpy as np\n",
        "import pandas as pd\n",
        "import seaborn as sns\n",
        "import matplotlib.pyplot as plt\n",
        "from pylab import rcParams\n",
        "\n",
        "from plotly.offline import iplot, init_notebook_mode\n",
        "from geopy.geocoders import Nominatim\n",
        "import missingno as msno\n",
        "import plotly.plotly as py\n",
        "\n",
        "%matplotlib inline\n",
        "rcParams[\"figure.figsize\"] = 12, 8\n",
        "rcParams[\"font.size\"] = 3\n",
        "rcParams[\"xtick.labelsize\"] = 12\n",
        "rcParams[\"ytick.labelsize\"] = 12\n"
      ],
      "execution_count": 0,
      "outputs": []
    },
    {
      "metadata": {
        "id": "MNCnNKMA8BO_",
        "colab_type": "text"
      },
      "cell_type": "markdown",
      "source": [
        "# Distribution of the Overall Variable "
      ]
    },
    {
      "metadata": {
        "id": "1TEol1PJ8BO_",
        "colab_type": "code",
        "colab": {},
        "outputId": "96d34515-52cd-4a9c-d449-b945ef879e7d"
      },
      "cell_type": "code",
      "source": [
        "# Overall ratings\n",
        "fig, axe = plt.subplots()\n",
        "ax = sns.distplot(dataset[\"Overall\"], bins=len(dataset[\"Overall\"].value_counts().index))\n",
        "ax.set_xticks(range(0, 100, 5))\n",
        "ax.set_xlim(0,100)\n",
        "ax.set_xlabel(\"Overall Rating\",fontsize=15)\n",
        "fig.tight_layout()"
      ],
      "execution_count": 0,
      "outputs": [
        {
          "output_type": "display_data",
          "data": {
            "image/png": "[encoded data removed]",
            "text/plain": [
              "<Figure size 864x576 with 1 Axes>"
            ]
          },
          "metadata": {
            "tags": [],
            "needs_background": "light"
          }
        }
      ]
    },
    {
      "metadata": {
        "id": "dnmjbzVv8BPB",
        "colab_type": "code",
        "colab": {}
      },
      "cell_type": "code",
      "source": [
        "import pandas as pd\n",
        "from math import pi\n",
        "import matplotlib.pyplot as plt\n",
        "%matplotlib inline\n",
        "\n",
        "#Create a data frame from Messi and Ronaldo's 6 Ultimate Team data points from FIFA 18\n",
        "Messi = {'Pace':89,'Shooting':90,'Passing':86,'Dribbling':95,'Defending':26,'Physical':61}\n",
        "Ronaldo = {'Pace':90,'Shooting':93,'Passing':82,'Dribbling':90,'Defending':33,'Physical':80}\n",
        "\n",
        "data = pd.DataFrame([Messi,Ronaldo], index = [\"Messi\",\"Ronaldo\"])"
      ],
      "execution_count": 0,
      "outputs": []
    },
    {
      "metadata": {
        "id": "pMAshvAb8BPC",
        "colab_type": "code",
        "colab": {},
        "outputId": "6b75a0a3-aede-40c5-be2b-39eab9328fcf"
      },
      "cell_type": "code",
      "source": [
        "data"
      ],
      "execution_count": 0,
      "outputs": [
        {
          "output_type": "execute_result",
          "data": {
            "text/html": [
              "<div>\n",
              "<style scoped>\n",
              "    .dataframe tbody tr th:only-of-type {\n",
              "        vertical-align: middle;\n",
              "    }\n",
              "\n",
              "    .dataframe tbody tr th {\n",
              "        vertical-align: top;\n",
              "    }\n",
              "\n",
              "    .dataframe thead th {\n",
              "        text-align: right;\n",
              "    }\n",
              "</style>\n",
              "<table border=\"1\" class=\"dataframe\">\n",
              "  <thead>\n",
              "    <tr style=\"text-align: right;\">\n",
              "      <th></th>\n",
              "      <th>Defending</th>\n",
              "      <th>Dribbling</th>\n",
              "      <th>Pace</th>\n",
              "      <th>Passing</th>\n",
              "      <th>Physical</th>\n",
              "      <th>Shooting</th>\n",
              "    </tr>\n",
              "  </thead>\n",
              "  <tbody>\n",
              "    <tr>\n",
              "      <th>Messi</th>\n",
              "      <td>26</td>\n",
              "      <td>95</td>\n",
              "      <td>89</td>\n",
              "      <td>86</td>\n",
              "      <td>61</td>\n",
              "      <td>90</td>\n",
              "    </tr>\n",
              "    <tr>\n",
              "      <th>Ronaldo</th>\n",
              "      <td>33</td>\n",
              "      <td>90</td>\n",
              "      <td>90</td>\n",
              "      <td>82</td>\n",
              "      <td>80</td>\n",
              "      <td>93</td>\n",
              "    </tr>\n",
              "  </tbody>\n",
              "</table>\n",
              "</div>"
            ],
            "text/plain": [
              "         Defending  Dribbling  Pace  Passing  Physical  Shooting\n",
              "Messi           26         95    89       86        61        90\n",
              "Ronaldo         33         90    90       82        80        93"
            ]
          },
          "metadata": {
            "tags": []
          },
          "execution_count": 86
        }
      ]
    },
    {
      "metadata": {
        "id": "99Abf4qk8BPE",
        "colab_type": "code",
        "colab": {}
      },
      "cell_type": "code",
      "source": [
        "Attributes =list(data)\n",
        "AttNo = len(Attributes)"
      ],
      "execution_count": 0,
      "outputs": []
    },
    {
      "metadata": {
        "id": "jJxwXRyE8BPG",
        "colab_type": "code",
        "colab": {},
        "outputId": "4b0e17d9-2ae0-43bb-a39f-53f17cb39bdf"
      },
      "cell_type": "code",
      "source": [
        "values = data.iloc[1].tolist()\n",
        "values += values [:1]\n",
        "values"
      ],
      "execution_count": 0,
      "outputs": [
        {
          "output_type": "execute_result",
          "data": {
            "text/plain": [
              "[33, 90, 90, 82, 80, 93, 33]"
            ]
          },
          "metadata": {
            "tags": []
          },
          "execution_count": 88
        }
      ]
    },
    {
      "metadata": {
        "id": "RAhRW7bw8BPI",
        "colab_type": "code",
        "colab": {}
      },
      "cell_type": "code",
      "source": [
        "angles = [n / float(AttNo) * 2 * pi for n in range(AttNo)]\n",
        "angles += angles [:1]"
      ],
      "execution_count": 0,
      "outputs": []
    },
    {
      "metadata": {
        "id": "kWY9qFMs8BPI",
        "colab_type": "text"
      },
      "cell_type": "markdown",
      "source": [
        "# Radar Chart for Ronaldo and their Attributes"
      ]
    },
    {
      "metadata": {
        "id": "qmIWoXjO8BPJ",
        "colab_type": "code",
        "colab": {},
        "outputId": "a1675ed0-4154-40b5-834f-8755ee359a71"
      },
      "cell_type": "code",
      "source": [
        "ax = plt.subplot(111, polar=True)\n",
        "\n",
        "#Add the attribute labels to our axes\n",
        "plt.xticks(angles[:-1],Attributes)\n",
        "\n",
        "#Plot the line around the outside of the filled area, using the angles and values calculated before\n",
        "ax.plot(angles,values)\n",
        "\n",
        "#Fill in the area plotted in the last line\n",
        "ax.fill(angles, values, 'teal', alpha=0.1)\n",
        "\n",
        "#Give the plot a title and show it\n",
        "ax.set_title(\"Ronaldo\")\n",
        "plt.show()"
      ],
      "execution_count": 0,
      "outputs": [
        {
          "output_type": "display_data",
          "data": {
            "image/png": "[encoded data removed]",
            "text/plain": [
              "<Figure size 432x288 with 1 Axes>"
            ]
          },
          "metadata": {
            "tags": [],
            "needs_background": "light"
          }
        }
      ]
    },
    {
      "metadata": {
        "id": "mgweYNVK8BPK",
        "colab_type": "text"
      },
      "cell_type": "markdown",
      "source": [
        "# Radar Chart For Comparison of Messi Vs. Ronaldo"
      ]
    },
    {
      "metadata": {
        "id": "pTj4BBa98BPK",
        "colab_type": "code",
        "colab": {},
        "outputId": "470cbc62-09f9-4377-91cf-33d90cd47510"
      },
      "cell_type": "code",
      "source": [
        "#Find the values and angles for Messi - from the table at the top of the page\n",
        "values2 = data.iloc[0].tolist()\n",
        "values2 += values2 [:1]\n",
        "\n",
        "angles2 = [n / float(AttNo) * 2 * pi for n in range(AttNo)]\n",
        "angles2 += angles2 [:1]\n",
        "\n",
        "\n",
        "#Create the chart as before, but with both Ronaldo's and Messi's angles/values\n",
        "ax = plt.subplot(111, polar=True)\n",
        "\n",
        "plt.xticks(angles[:-1],Attributes)\n",
        "\n",
        "ax.plot(angles,values)\n",
        "ax.fill(angles, values, 'teal', alpha=0.1)\n",
        "\n",
        "ax.plot(angles2,values2)\n",
        "ax.fill(angles2, values2, 'red', alpha=0.1)\n",
        "\n",
        "#Rather than use a title, individual text points are added\n",
        "plt.figtext(0.2,0.9,\"Messi\",color=\"red\")\n",
        "plt.figtext(0.2,0.85,\"v\")\n",
        "plt.figtext(0.2,0.8,\"Ronaldo\",color=\"teal\")\n",
        "plt.show()"
      ],
      "execution_count": 0,
      "outputs": [
        {
          "output_type": "display_data",
          "data": {
            "image/png": "[encoded data removed]",
            "text/plain": [
              "<Figure size 432x288 with 1 Axes>"
            ]
          },
          "metadata": {
            "tags": [],
            "needs_background": "light"
          }
        }
      ]
    },
    {
      "metadata": {
        "id": "JkTuK2CU8BPM",
        "colab_type": "code",
        "colab": {}
      },
      "cell_type": "code",
      "source": [
        "def createRadar2(player, data, player2, data2):\n",
        "    Attributes = [\"Defending\",\"Dribbling\",\"Pace\",\"Passing\",\"Physical\",\"Shooting\"]\n",
        "    \n",
        "    data += data [:1]\n",
        "    data2 += data2 [:1]\n",
        "    \n",
        "    angles = [n / 6 * 2 * pi for n in range(6)]\n",
        "    angles += angles [:1]\n",
        "    \n",
        "    angles2 = [n / 6 * 2 * pi for n in range(6)]\n",
        "    angles2 += angles2 [:1]\n",
        "    \n",
        "    ax = plt.subplot(111, polar=True)\n",
        "\n",
        "    #Create the chart as before, but with both Ronaldo's and Messi's angles/values\n",
        "    ax = plt.subplot(111, polar=True)\n",
        "\n",
        "    plt.xticks(angles[:-1],Attributes)\n",
        "\n",
        "    ax.plot(angles,values)\n",
        "    ax.fill(angles, values, 'teal', alpha=0.1)\n",
        "\n",
        "    ax.plot(angles2,values2)\n",
        "    ax.fill(angles2, values2, 'red', alpha=0.1)\n",
        "\n",
        "    #Rather than use a title, individual text points are added\n",
        "    plt.figtext(0.2,0.9,player,color=\"teal\")\n",
        "    plt.figtext(0.2,0.85,\"v\")\n",
        "    plt.figtext(0.2,0.8,player2,color=\"red\")\n",
        "    plt.show()"
      ],
      "execution_count": 0,
      "outputs": []
    },
    {
      "metadata": {
        "id": "FT2MU5cB8BPN",
        "colab_type": "text"
      },
      "cell_type": "markdown",
      "source": [
        "# Radar Chart for Comparison of Henderson and Wilshare"
      ]
    },
    {
      "metadata": {
        "id": "CX6pAmTV8BPN",
        "colab_type": "code",
        "colab": {},
        "outputId": "20e3fca3-1426-4d41-a712-cc310b32ea93"
      },
      "cell_type": "code",
      "source": [
        "createRadar2(\"Henderson\", [76,76,62,82,81,70],\"Wilshere\", [62,82,71,80,72,69])"
      ],
      "execution_count": 0,
      "outputs": [
        {
          "output_type": "stream",
          "text": [
            "C:\\Users\\Owner\\Anaconda3\\lib\\site-packages\\matplotlib\\figure.py:98: MatplotlibDeprecationWarning:\n",
            "\n",
            "\n",
            "Adding an axes using the same arguments as a previous axes currently reuses the earlier instance.  In a future version, a new instance will always be created and returned.  Meanwhile, this warning can be suppressed, and the future behavior ensured, by passing a unique label to each axes instance.\n",
            "\n"
          ],
          "name": "stderr"
        },
        {
          "output_type": "display_data",
          "data": {
            "image/png": "[encoded data removed]",
            "text/plain": [
              "<Figure size 432x288 with 1 Axes>"
            ]
          },
          "metadata": {
            "tags": [],
            "needs_background": "light"
          }
        }
      ]
    },
    {
      "metadata": {
        "id": "4VhgTRMU8BPP",
        "colab_type": "text"
      },
      "cell_type": "markdown",
      "source": [
        "Radar charts are an interesting way to display data and allow us to compare two observations quite nicely. In this, we have used them to compare fictional FIFA players, but analysts have used this format very innovatively to display actual performance data in an engaging format."
      ]
    },
    {
      "metadata": {
        "id": "SKObcZQF8BPP",
        "colab_type": "text"
      },
      "cell_type": "markdown",
      "source": [
        "# Grouping players By Overall"
      ]
    },
    {
      "metadata": {
        "id": "ya5XklVK8BPP",
        "colab_type": "code",
        "colab": {},
        "outputId": "f6e848cd-8731-4b2f-c755-4f9f33b9c06b"
      },
      "cell_type": "code",
      "source": [
        "plt.figure(figsize=(16,8))\n",
        "sns.set_style(\"whitegrid\")\n",
        "plt.title('Grouping players by Overall', fontsize=20, fontweight='bold', y=1.05,)\n",
        "plt.xlabel('Number of players', fontsize=15)\n",
        "plt.ylabel('Players Age', fontsize=15)\n",
        "sns.countplot(x=\"Overall\", data=dataset, palette=\"hls\");\n",
        "plt.show()\n"
      ],
      "execution_count": 0,
      "outputs": [
        {
          "output_type": "display_data",
          "data": {
            "image/png": "[encoded data removed]",
            "text/plain": [
              "<Figure size 1152x576 with 1 Axes>"
            ]
          },
          "metadata": {
            "tags": []
          }
        }
      ]
    },
    {
      "metadata": {
        "id": "e9DpXIfZ8BPR",
        "colab_type": "code",
        "colab": {}
      },
      "cell_type": "code",
      "source": [
        "from wordcloud import WordCloud"
      ],
      "execution_count": 0,
      "outputs": []
    },
    {
      "metadata": {
        "id": "FH7aMShV8BPR",
        "colab_type": "text"
      },
      "cell_type": "markdown",
      "source": [
        "# Names of the Top 100 Players with 'Word Cloud"
      ]
    },
    {
      "metadata": {
        "id": "bVjF00WJ8BPS",
        "colab_type": "code",
        "colab": {},
        "outputId": "59a8c168-846b-4997-9782-3bf5caa62576"
      },
      "cell_type": "code",
      "source": [
        "\n",
        "#Prepare Data Frame\n",
        "d_frame = dataset.Name[:50]\n",
        "\n",
        "plt.subplots(figsize=(10,10))\n",
        "wordcloud = WordCloud(\n",
        "                   background_color='White',\n",
        "                        width = 700,\n",
        "                        height = 400\n",
        "    ).generate(\" \".join(d_frame))\n",
        "\n",
        "plt.imshow(wordcloud)\n",
        "plt.axis('off')\n",
        "plt.savefig('graph.png')"
      ],
      "execution_count": 0,
      "outputs": [
        {
          "output_type": "display_data",
          "data": {
            "image/png": "[encoded data removed]",
            "text/plain": [
              "<Figure size 720x720 with 1 Axes>"
            ]
          },
          "metadata": {
            "tags": [],
            "needs_background": "light"
          }
        }
      ]
    },
    {
      "metadata": {
        "id": "aGtUC6Ud8BPT",
        "colab_type": "code",
        "colab": {}
      },
      "cell_type": "code",
      "source": [
        "fifa_data=dataset"
      ],
      "execution_count": 0,
      "outputs": []
    },
    {
      "metadata": {
        "id": "_h9XKSCm8BPU",
        "colab_type": "code",
        "colab": {}
      },
      "cell_type": "code",
      "source": [
        "# In order to be able to start our ranking from 1, we have assigned the 'array' variable.\n",
        "fifa_data['array'] = fifa_data['Unnamed: 0']+1"
      ],
      "execution_count": 0,
      "outputs": []
    },
    {
      "metadata": {
        "id": "RHHMjwQe8BPV",
        "colab_type": "code",
        "colab": {}
      },
      "cell_type": "code",
      "source": [
        "# Let's change the names of some columns\n",
        "fifa_data.rename(columns={'Ball control':'ball_control','Free kick accuracy':'free_kick',\n",
        "                     'Shot power':'shot_power'}, inplace=True)\n",
        "# Just take the columns we'll use\n",
        "fifa_data= fifa_data[['array','Name','Age','Nationality','Overall','Potential','Club','Value',\n",
        "                      'Wage','Special','Acceleration','ball_control','Dribbling','free_kick',\n",
        "                      'Penalties','shot_power']]"
      ],
      "execution_count": 0,
      "outputs": []
    },
    {
      "metadata": {
        "id": "YNhgXO4v8BPW",
        "colab_type": "code",
        "colab": {},
        "outputId": "38724818-f321-4ddd-a1db-26a2ae4b912d"
      },
      "cell_type": "code",
      "source": [
        "import numpy as np # linear algebra\n",
        "import pandas as pd # data processing, CSV file I/O (e.g. pd.read_csv)\n",
        "\n",
        "#plotly\n",
        "import plotly.plotly as py\n",
        "from plotly.offline import init_notebook_mode, iplot\n",
        "init_notebook_mode(connected =True)\n",
        "import plotly.graph_objs as go\n",
        "from plotly import tools\n",
        "from wordcloud import WordCloud     #word cloud library\n",
        "import matplotlib.pyplot as plt     #matplotlib"
      ],
      "execution_count": 0,
      "outputs": [
        {
          "output_type": "display_data",
          "data": {
            "text/html": [
              "        <script type=\"text/javascript\">\n",
              "        window.PlotlyConfig = {MathJaxConfig: 'local'};\n",
              "        if (window.MathJax) {MathJax.Hub.Config({SVG: {font: \"STIX-Web\"}});}\n",
              "        if (typeof require !== 'undefined') {\n",
              "        require.undef(\"plotly\");\n",
              "        requirejs.config({\n",
              "            paths: {\n",
              "                'plotly': ['https://cdn.plot.ly/plotly-latest.min']\n",
              "            }\n",
              "        });\n",
              "        require(['plotly'], function(Plotly) {\n",
              "            window._Plotly = Plotly;\n",
              "        });\n",
              "        }\n",
              "        </script>\n",
              "        "
            ]
          },
          "metadata": {
            "tags": []
          }
        }
      ]
    },
    {
      "metadata": {
        "id": "4kwiM7x28BPX",
        "colab_type": "text"
      },
      "cell_type": "markdown",
      "source": [
        "# Comparing the 'Overall' and 'Potential' of Players with Scatter Plot"
      ]
    },
    {
      "metadata": {
        "id": "COhXChND8BPX",
        "colab_type": "code",
        "colab": {},
        "outputId": "57849e51-c73d-4c7d-d09c-ca30d90d670d"
      },
      "cell_type": "code",
      "source": [
        "# Prepare Data Frame\n",
        "d_frame = fifa_data.iloc[:100,:]\n",
        "\n",
        "#Creating trace1\n",
        "trace1 = go.Scatter(\n",
        "    x= d_frame.array,\n",
        "    y= d_frame.Overall,\n",
        "    mode='lines',\n",
        "    name='Overall',\n",
        "    marker= dict(color='rgba(12, 255, 250,0.9)'),\n",
        "    text= d_frame.Name\n",
        ")\n",
        "#Creating trace2\n",
        "trace2 = go.Scatter(\n",
        "    x= d_frame.array,\n",
        "    y= d_frame.Potential,\n",
        "    mode='lines+markers',\n",
        "    name='Potential',\n",
        "    \n",
        "    text= d_frame.Name\n",
        ")\n",
        "data = [trace1,trace2]\n",
        "layout= dict(title=\"Comparing the 'Overall' and 'Potential' of players\",\n",
        "            xaxis= dict(title='Player Rank', ticklen=5, zeroline=False)\n",
        "            )\n",
        "fig= dict(data=data, layout=layout)\n",
        "iplot(fig)"
      ],
      "execution_count": 0,
      "outputs": [
        {
          "output_type": "display_data",
          "data": {
            "application/vnd.plotly.v1+json": {
              "config": {
                "linkText": "Export to plot.ly",
                "plotlyServerURL": "https://plot.ly",
                "responsive": true,
                "showLink": false
              },
              "data": [
                {
                  "marker": {
                    "color": "rgba(12, 255, 250,0.9)"
                  },
                  "mode": "lines",
                  "name": "Overall",
                  "text": [
                    "Cristiano Ronaldo",
                    "L. Messi",
                    "Neymar",
                    "L. Suárez",
                    "M. Neuer",
                    "R. Lewandowski",
                    "De Gea",
                    "E. Hazard",
                    "T. Kroos",
                    "G. Higuaín",
                    "Sergio Ramos",
                    "K. De Bruyne",
                    "T. Courtois",
                    "A. Sánchez",
                    "L. Modrić",
                    "G. Bale",
                    "S. Agüero",
                    "G. Chiellini",
                    "G. Buffon",
                    "P. Dybala",
                    "J. Oblak",
                    "A. Griezmann",
                    "Thiago",
                    "P. Aubameyang",
                    "L. Bonucci",
                    "J. Boateng",
                    "D. Godín",
                    "M. Hummels",
                    "M. Özil",
                    "H. Lloris",
                    "Thiago Silva",
                    "Z. Ibrahimović",
                    "A. Robben",
                    "N. Kanté",
                    "M. Verratti",
                    "P. Pogba",
                    "C. Eriksen",
                    "A. Vidal",
                    "E. Cavani",
                    "Marcelo",
                    "M. Hamšík",
                    "I. Rakitić",
                    "David Silva",
                    "S. Handanovič",
                    "Piqué",
                    "Iniesta",
                    "H. Kane",
                    "J. Rodríguez",
                    "Isco",
                    "D. Alaba",
                    "R. Lukaku",
                    "Alex Sandro",
                    "T. Müller",
                    "Sergio Busquets",
                    "Coutinho",
                    "M. Reus",
                    "T. Alderweireld",
                    "David Luiz",
                    "Diego Costa",
                    "R. Nainggolan",
                    "Javi Martínez",
                    "D. Mertens",
                    "Sokratis",
                    "Miranda",
                    "K. Benzema",
                    "Cesc Fàbregas",
                    "F. Ribéry",
                    "Pepe",
                    "P. Čech",
                    "Y. Carrasco",
                    "R. Varane",
                    "Casemiro",
                    "L. Insigne",
                    "A. Lacazette",
                    "K. Navas",
                    "H. Mkhitaryan",
                    "D. Subašić",
                    "B. Leno",
                    "M. ter Stegen",
                    "K. Glik",
                    "Jordi Alba",
                    "I. Gündoğan",
                    "Azpilicueta",
                    "A. Di María",
                    "M. Pjanić",
                    "C. Marchisio",
                    "J. Vertonghen",
                    "B. Matuidi",
                    "S. Ruffier",
                    "Filipe Luís",
                    "V. Kompany",
                    "A. Barzagli",
                    "E. Bailly",
                    "Marco Asensio",
                    "Bernardo Silva",
                    "A. Laporte",
                    "D. Alli",
                    "S. Mané",
                    "Carvajal",
                    "J. Draxler"
                  ],
                  "type": "scatter",
                  "uid": "d3efcd42-d92d-485a-9a70-b6f542529c98",
                  "x": [
                    1,
                    2,
                    3,
                    4,
                    5,
                    6,
                    7,
                    8,
                    9,
                    10,
                    11,
                    12,
                    13,
                    14,
                    15,
                    16,
                    17,
                    18,
                    19,
                    20,
                    21,
                    22,
                    23,
                    24,
                    25,
                    26,
                    27,
                    28,
                    29,
                    30,
                    31,
                    32,
                    33,
                    34,
                    35,
                    36,
                    37,
                    38,
                    39,
                    40,
                    41,
                    42,
                    43,
                    44,
                    45,
                    46,
                    47,
                    48,
                    49,
                    50,
                    51,
                    52,
                    53,
                    54,
                    55,
                    56,
                    57,
                    58,
                    59,
                    60,
                    61,
                    62,
                    63,
                    64,
                    65,
                    66,
                    67,
                    68,
                    69,
                    70,
                    71,
                    72,
                    73,
                    74,
                    75,
                    76,
                    77,
                    78,
                    79,
                    80,
                    81,
                    82,
                    83,
                    84,
                    85,
                    86,
                    87,
                    88,
                    89,
                    90,
                    91,
                    92,
                    93,
                    94,
                    95,
                    96,
                    97,
                    98,
                    99,
                    100
                  ],
                  "y": [
                    94,
                    93,
                    92,
                    92,
                    92,
                    91,
                    90,
                    90,
                    90,
                    90,
                    90,
                    89,
                    89,
                    89,
                    89,
                    89,
                    89,
                    89,
                    89,
                    88,
                    88,
                    88,
                    88,
                    88,
                    88,
                    88,
                    88,
                    88,
                    88,
                    88,
                    88,
                    88,
                    88,
                    87,
                    87,
                    87,
                    87,
                    87,
                    87,
                    87,
                    87,
                    87,
                    87,
                    87,
                    87,
                    87,
                    86,
                    86,
                    86,
                    86,
                    86,
                    86,
                    86,
                    86,
                    86,
                    86,
                    86,
                    86,
                    86,
                    86,
                    86,
                    86,
                    86,
                    86,
                    86,
                    86,
                    86,
                    86,
                    86,
                    85,
                    85,
                    85,
                    85,
                    85,
                    85,
                    85,
                    85,
                    85,
                    85,
                    85,
                    85,
                    85,
                    85,
                    85,
                    85,
                    85,
                    85,
                    85,
                    85,
                    85,
                    85,
                    85,
                    84,
                    84,
                    84,
                    84,
                    84,
                    84,
                    84,
                    84
                  ]
                },
                {
                  "mode": "lines+markers",
                  "name": "Potential",
                  "text": [
                    "Cristiano Ronaldo",
                    "L. Messi",
                    "Neymar",
                    "L. Suárez",
                    "M. Neuer",
                    "R. Lewandowski",
                    "De Gea",
                    "E. Hazard",
                    "T. Kroos",
                    "G. Higuaín",
                    "Sergio Ramos",
                    "K. De Bruyne",
                    "T. Courtois",
                    "A. Sánchez",
                    "L. Modrić",
                    "G. Bale",
                    "S. Agüero",
                    "G. Chiellini",
                    "G. Buffon",
                    "P. Dybala",
                    "J. Oblak",
                    "A. Griezmann",
                    "Thiago",
                    "P. Aubameyang",
                    "L. Bonucci",
                    "J. Boateng",
                    "D. Godín",
                    "M. Hummels",
                    "M. Özil",
                    "H. Lloris",
                    "Thiago Silva",
                    "Z. Ibrahimović",
                    "A. Robben",
                    "N. Kanté",
                    "M. Verratti",
                    "P. Pogba",
                    "C. Eriksen",
                    "A. Vidal",
                    "E. Cavani",
                    "Marcelo",
                    "M. Hamšík",
                    "I. Rakitić",
                    "David Silva",
                    "S. Handanovič",
                    "Piqué",
                    "Iniesta",
                    "H. Kane",
                    "J. Rodríguez",
                    "Isco",
                    "D. Alaba",
                    "R. Lukaku",
                    "Alex Sandro",
                    "T. Müller",
                    "Sergio Busquets",
                    "Coutinho",
                    "M. Reus",
                    "T. Alderweireld",
                    "David Luiz",
                    "Diego Costa",
                    "R. Nainggolan",
                    "Javi Martínez",
                    "D. Mertens",
                    "Sokratis",
                    "Miranda",
                    "K. Benzema",
                    "Cesc Fàbregas",
                    "F. Ribéry",
                    "Pepe",
                    "P. Čech",
                    "Y. Carrasco",
                    "R. Varane",
                    "Casemiro",
                    "L. Insigne",
                    "A. Lacazette",
                    "K. Navas",
                    "H. Mkhitaryan",
                    "D. Subašić",
                    "B. Leno",
                    "M. ter Stegen",
                    "K. Glik",
                    "Jordi Alba",
                    "I. Gündoğan",
                    "Azpilicueta",
                    "A. Di María",
                    "M. Pjanić",
                    "C. Marchisio",
                    "J. Vertonghen",
                    "B. Matuidi",
                    "S. Ruffier",
                    "Filipe Luís",
                    "V. Kompany",
                    "A. Barzagli",
                    "E. Bailly",
                    "Marco Asensio",
                    "Bernardo Silva",
                    "A. Laporte",
                    "D. Alli",
                    "S. Mané",
                    "Carvajal",
                    "J. Draxler"
                  ],
                  "type": "scatter",
                  "uid": "da073a58-d9c4-4572-bf55-fd55aacb97c8",
                  "x": [
                    1,
                    2,
                    3,
                    4,
                    5,
                    6,
                    7,
                    8,
                    9,
                    10,
                    11,
                    12,
                    13,
                    14,
                    15,
                    16,
                    17,
                    18,
                    19,
                    20,
                    21,
                    22,
                    23,
                    24,
                    25,
                    26,
                    27,
                    28,
                    29,
                    30,
                    31,
                    32,
                    33,
                    34,
                    35,
                    36,
                    37,
                    38,
                    39,
                    40,
                    41,
                    42,
                    43,
                    44,
                    45,
                    46,
                    47,
                    48,
                    49,
                    50,
                    51,
                    52,
                    53,
                    54,
                    55,
                    56,
                    57,
                    58,
                    59,
                    60,
                    61,
                    62,
                    63,
                    64,
                    65,
                    66,
                    67,
                    68,
                    69,
                    70,
                    71,
                    72,
                    73,
                    74,
                    75,
                    76,
                    77,
                    78,
                    79,
                    80,
                    81,
                    82,
                    83,
                    84,
                    85,
                    86,
                    87,
                    88,
                    89,
                    90,
                    91,
                    92,
                    93,
                    94,
                    95,
                    96,
                    97,
                    98,
                    99,
                    100
                  ],
                  "y": [
                    94,
                    93,
                    94,
                    92,
                    92,
                    91,
                    92,
                    91,
                    90,
                    90,
                    90,
                    92,
                    92,
                    89,
                    89,
                    89,
                    89,
                    89,
                    89,
                    93,
                    93,
                    91,
                    90,
                    88,
                    88,
                    88,
                    88,
                    88,
                    88,
                    88,
                    88,
                    88,
                    88,
                    90,
                    91,
                    92,
                    91,
                    87,
                    87,
                    87,
                    87,
                    87,
                    87,
                    87,
                    87,
                    87,
                    90,
                    89,
                    90,
                    88,
                    90,
                    88,
                    86,
                    86,
                    89,
                    86,
                    87,
                    86,
                    86,
                    86,
                    86,
                    86,
                    86,
                    86,
                    86,
                    86,
                    86,
                    86,
                    86,
                    90,
                    92,
                    89,
                    86,
                    88,
                    85,
                    85,
                    85,
                    88,
                    89,
                    85,
                    85,
                    87,
                    87,
                    85,
                    86,
                    85,
                    85,
                    85,
                    85,
                    85,
                    85,
                    85,
                    89,
                    92,
                    91,
                    89,
                    90,
                    87,
                    87,
                    87
                  ]
                }
              ],
              "layout": {
                "title": {
                  "text": "Comparing the 'Overall' and 'Potential' of players"
                },
                "xaxis": {
                  "ticklen": 5,
                  "title": {
                    "text": "Player Rank"
                  },
                  "zeroline": false
                }
              }
            },
            "text/html": [
              "<div>\n",
              "        \n",
              "        \n",
              "            <div id=\"ea297110-6e51-4d33-8bab-4c59d8118396\" class=\"plotly-graph-div\" style=\"height:525px; width:100%;\"></div>\n",
              "            <script type=\"text/javascript\">\n",
              "                require([\"plotly\"], function(Plotly) {\n",
              "                    window.PLOTLYENV=window.PLOTLYENV || {};\n",
              "                    window.PLOTLYENV.BASE_URL='https://plot.ly';\n",
              "                    \n",
              "                if (document.getElementById(\"ea297110-6e51-4d33-8bab-4c59d8118396\")) {\n",
              "                    Plotly.newPlot(\n",
              "                        'ea297110-6e51-4d33-8bab-4c59d8118396',\n",
              "                        [{\"marker\": {\"color\": \"rgba(12, 255, 250,0.9)\"}, \"mode\": \"lines\", \"name\": \"Overall\", \"text\": [\"Cristiano Ronaldo\", \"L. Messi\", \"Neymar\", \"L. Su\\u00e1rez\", \"M. Neuer\", \"R. Lewandowski\", \"De Gea\", \"E. Hazard\", \"T. Kroos\", \"G. Higua\\u00edn\", \"Sergio Ramos\", \"K. De Bruyne\", \"T. Courtois\", \"A. S\\u00e1nchez\", \"L. Modri\\u0107\", \"G. Bale\", \"S. Ag\\u00fcero\", \"G. Chiellini\", \"G. Buffon\", \"P. Dybala\", \"J. Oblak\", \"A. Griezmann\", \"Thiago\", \"P. Aubameyang\", \"L. Bonucci\", \"J. Boateng\", \"D. God\\u00edn\", \"M. Hummels\", \"M. \\u00d6zil\", \"H. Lloris\", \"Thiago Silva\", \"Z. Ibrahimovi\\u0107\", \"A. Robben\", \"N. Kant\\u00e9\", \"M. Verratti\", \"P. Pogba\", \"C. Eriksen\", \"A. Vidal\", \"E. Cavani\", \"Marcelo\", \"M. Ham\\u0161\\u00edk\", \"I. Rakiti\\u0107\", \"David Silva\", \"S. Handanovi\\u010d\", \"Piqu\\u00e9\", \"Iniesta\", \"H. Kane\", \"J. Rodr\\u00edguez\", \"Isco\", \"D. Alaba\", \"R. Lukaku\", \"Alex Sandro\", \"T. M\\u00fcller\", \"Sergio Busquets\", \"Coutinho\", \"M. Reus\", \"T. Alderweireld\", \"David Luiz\", \"Diego Costa\", \"R. Nainggolan\", \"Javi Mart\\u00ednez\", \"D. Mertens\", \"Sokratis\", \"Miranda\", \"K. Benzema\", \"Cesc F\\u00e0bregas\", \"F. Rib\\u00e9ry\", \"Pepe\", \"P. \\u010cech\", \"Y. Carrasco\", \"R. Varane\", \"Casemiro\", \"L. Insigne\", \"A. Lacazette\", \"K. Navas\", \"H. Mkhitaryan\", \"D. Suba\\u0161i\\u0107\", \"B. Leno\", \"M. ter Stegen\", \"K. Glik\", \"Jordi Alba\", \"I. G\\u00fcndo\\u011fan\", \"Azpilicueta\", \"A. Di Mar\\u00eda\", \"M. Pjani\\u0107\", \"C. Marchisio\", \"J. Vertonghen\", \"B. Matuidi\", \"S. Ruffier\", \"Filipe Lu\\u00eds\", \"V. Kompany\", \"A. Barzagli\", \"E. Bailly\", \"Marco Asensio\", \"Bernardo Silva\", \"A. Laporte\", \"D. Alli\", \"S. Man\\u00e9\", \"Carvajal\", \"J. Draxler\"], \"type\": \"scatter\", \"uid\": \"1cf087a7-f6f7-4cd6-be13-79ece17d0386\", \"x\": [1, 2, 3, 4, 5, 6, 7, 8, 9, 10, 11, 12, 13, 14, 15, 16, 17, 18, 19, 20, 21, 22, 23, 24, 25, 26, 27, 28, 29, 30, 31, 32, 33, 34, 35, 36, 37, 38, 39, 40, 41, 42, 43, 44, 45, 46, 47, 48, 49, 50, 51, 52, 53, 54, 55, 56, 57, 58, 59, 60, 61, 62, 63, 64, 65, 66, 67, 68, 69, 70, 71, 72, 73, 74, 75, 76, 77, 78, 79, 80, 81, 82, 83, 84, 85, 86, 87, 88, 89, 90, 91, 92, 93, 94, 95, 96, 97, 98, 99, 100], \"y\": [94, 93, 92, 92, 92, 91, 90, 90, 90, 90, 90, 89, 89, 89, 89, 89, 89, 89, 89, 88, 88, 88, 88, 88, 88, 88, 88, 88, 88, 88, 88, 88, 88, 87, 87, 87, 87, 87, 87, 87, 87, 87, 87, 87, 87, 87, 86, 86, 86, 86, 86, 86, 86, 86, 86, 86, 86, 86, 86, 86, 86, 86, 86, 86, 86, 86, 86, 86, 86, 85, 85, 85, 85, 85, 85, 85, 85, 85, 85, 85, 85, 85, 85, 85, 85, 85, 85, 85, 85, 85, 85, 85, 84, 84, 84, 84, 84, 84, 84, 84]}, {\"mode\": \"lines+markers\", \"name\": \"Potential\", \"text\": [\"Cristiano Ronaldo\", \"L. Messi\", \"Neymar\", \"L. Su\\u00e1rez\", \"M. Neuer\", \"R. Lewandowski\", \"De Gea\", \"E. Hazard\", \"T. Kroos\", \"G. Higua\\u00edn\", \"Sergio Ramos\", \"K. De Bruyne\", \"T. Courtois\", \"A. S\\u00e1nchez\", \"L. Modri\\u0107\", \"G. Bale\", \"S. Ag\\u00fcero\", \"G. Chiellini\", \"G. Buffon\", \"P. Dybala\", \"J. Oblak\", \"A. Griezmann\", \"Thiago\", \"P. Aubameyang\", \"L. Bonucci\", \"J. Boateng\", \"D. God\\u00edn\", \"M. Hummels\", \"M. \\u00d6zil\", \"H. Lloris\", \"Thiago Silva\", \"Z. Ibrahimovi\\u0107\", \"A. Robben\", \"N. Kant\\u00e9\", \"M. Verratti\", \"P. Pogba\", \"C. Eriksen\", \"A. Vidal\", \"E. Cavani\", \"Marcelo\", \"M. Ham\\u0161\\u00edk\", \"I. Rakiti\\u0107\", \"David Silva\", \"S. Handanovi\\u010d\", \"Piqu\\u00e9\", \"Iniesta\", \"H. Kane\", \"J. Rodr\\u00edguez\", \"Isco\", \"D. Alaba\", \"R. Lukaku\", \"Alex Sandro\", \"T. M\\u00fcller\", \"Sergio Busquets\", \"Coutinho\", \"M. Reus\", \"T. Alderweireld\", \"David Luiz\", \"Diego Costa\", \"R. Nainggolan\", \"Javi Mart\\u00ednez\", \"D. Mertens\", \"Sokratis\", \"Miranda\", \"K. Benzema\", \"Cesc F\\u00e0bregas\", \"F. Rib\\u00e9ry\", \"Pepe\", \"P. \\u010cech\", \"Y. Carrasco\", \"R. Varane\", \"Casemiro\", \"L. Insigne\", \"A. Lacazette\", \"K. Navas\", \"H. Mkhitaryan\", \"D. Suba\\u0161i\\u0107\", \"B. Leno\", \"M. ter Stegen\", \"K. Glik\", \"Jordi Alba\", \"I. G\\u00fcndo\\u011fan\", \"Azpilicueta\", \"A. Di Mar\\u00eda\", \"M. Pjani\\u0107\", \"C. Marchisio\", \"J. Vertonghen\", \"B. Matuidi\", \"S. Ruffier\", \"Filipe Lu\\u00eds\", \"V. Kompany\", \"A. Barzagli\", \"E. Bailly\", \"Marco Asensio\", \"Bernardo Silva\", \"A. Laporte\", \"D. Alli\", \"S. Man\\u00e9\", \"Carvajal\", \"J. Draxler\"], \"type\": \"scatter\", \"uid\": \"a50303c7-8dfb-48d6-9af3-fcb559376c30\", \"x\": [1, 2, 3, 4, 5, 6, 7, 8, 9, 10, 11, 12, 13, 14, 15, 16, 17, 18, 19, 20, 21, 22, 23, 24, 25, 26, 27, 28, 29, 30, 31, 32, 33, 34, 35, 36, 37, 38, 39, 40, 41, 42, 43, 44, 45, 46, 47, 48, 49, 50, 51, 52, 53, 54, 55, 56, 57, 58, 59, 60, 61, 62, 63, 64, 65, 66, 67, 68, 69, 70, 71, 72, 73, 74, 75, 76, 77, 78, 79, 80, 81, 82, 83, 84, 85, 86, 87, 88, 89, 90, 91, 92, 93, 94, 95, 96, 97, 98, 99, 100], \"y\": [94, 93, 94, 92, 92, 91, 92, 91, 90, 90, 90, 92, 92, 89, 89, 89, 89, 89, 89, 93, 93, 91, 90, 88, 88, 88, 88, 88, 88, 88, 88, 88, 88, 90, 91, 92, 91, 87, 87, 87, 87, 87, 87, 87, 87, 87, 90, 89, 90, 88, 90, 88, 86, 86, 89, 86, 87, 86, 86, 86, 86, 86, 86, 86, 86, 86, 86, 86, 86, 90, 92, 89, 86, 88, 85, 85, 85, 88, 89, 85, 85, 87, 87, 85, 86, 85, 85, 85, 85, 85, 85, 85, 89, 92, 91, 89, 90, 87, 87, 87]}],\n",
              "                        {\"title\": {\"text\": \"Comparing the 'Overall' and 'Potential' of players\"}, \"xaxis\": {\"ticklen\": 5, \"title\": {\"text\": \"Player Rank\"}, \"zeroline\": false}},\n",
              "                        {\"showLink\": false, \"linkText\": \"Export to plot.ly\", \"plotlyServerURL\": \"https://plot.ly\", \"responsive\": true}\n",
              "                    ).then(function(){\n",
              "                            \n",
              "var gd = document.getElementById('ea297110-6e51-4d33-8bab-4c59d8118396');\n",
              "var x = new MutationObserver(function (mutations, observer) {{\n",
              "        var display = window.getComputedStyle(gd).display;\n",
              "        if (!display || display === 'none') {{\n",
              "            console.log([gd, 'removed!']);\n",
              "            Plotly.purge(gd);\n",
              "            observer.disconnect();\n",
              "        }}\n",
              "}});\n",
              "\n",
              "// Listen for the removal of the full notebook cells\n",
              "var notebookContainer = gd.closest('#notebook-container');\n",
              "if (notebookContainer) {{\n",
              "    x.observe(notebookContainer, {childList: true});\n",
              "}}\n",
              "\n",
              "// Listen for the clearing of the current output cell\n",
              "var outputEl = gd.closest('.output');\n",
              "if (outputEl) {{\n",
              "    x.observe(outputEl, {childList: true});\n",
              "}}\n",
              "\n",
              "                        })\n",
              "                };\n",
              "                });\n",
              "            </script>\n",
              "        </div>"
            ]
          },
          "metadata": {
            "tags": []
          }
        }
      ]
    },
    {
      "metadata": {
        "id": "-BFVm34x8BPZ",
        "colab_type": "text"
      },
      "cell_type": "markdown",
      "source": [
        "We are visualizing the trends of the Overall and potenial on the basis of the player's rank. So, the players are having high potenial as comapre to their overall value."
      ]
    },
    {
      "metadata": {
        "id": "z4W-UMp68BPZ",
        "colab_type": "text"
      },
      "cell_type": "markdown",
      "source": [
        "# Comparing 'Overall' and 'Potential' Values of Players between 90 and 100 with Bar Plot"
      ]
    },
    {
      "metadata": {
        "id": "qiLx4Gm08BPZ",
        "colab_type": "code",
        "colab": {},
        "outputId": "cfbfefa7-2b8d-4154-ba6d-f1b01c1248c1"
      },
      "cell_type": "code",
      "source": [
        "# Prepare Data Frame\n",
        "d_frame = fifa_data.iloc[90:100,:]\n",
        "\n",
        "#create trace1\n",
        "trace1 = go.Bar(\n",
        "    x= d_frame.array,\n",
        "    y= d_frame.Overall,\n",
        "    name= 'Overall',\n",
        "    marker= dict(color= 'rgba(255,106,0,0.9)',\n",
        "                line= dict(color= 'rgb(0,0,0)', width=1)),\n",
        "    text= d_frame.Name\n",
        ")\n",
        "#Create trace2\n",
        "trace2 = go.Bar(\n",
        "    x= d_frame.array,\n",
        "    y= d_frame.Potential,\n",
        "    name= 'Potential',\n",
        "    marker= dict(color= 'rgba(148, 255, 130,0.9)',\n",
        "                line= dict(color='rgb(0,0,0)', width=1)),\n",
        ")\n",
        "data= [trace1, trace2]\n",
        "layout= go.Layout(barmode= \"group\")\n",
        "fig= go.Figure(data=data, layout=layout)\n",
        "iplot(fig)"
      ],
      "execution_count": 0,
      "outputs": [
        {
          "output_type": "display_data",
          "data": {
            "application/vnd.plotly.v1+json": {
              "config": {
                "linkText": "Export to plot.ly",
                "plotlyServerURL": "https://plot.ly",
                "responsive": true,
                "showLink": false
              },
              "data": [
                {
                  "marker": {
                    "color": "rgba(255,106,0,0.9)",
                    "line": {
                      "color": "rgb(0,0,0)",
                      "width": 1
                    }
                  },
                  "name": "Overall",
                  "text": [
                    "V. Kompany",
                    "A. Barzagli",
                    "E. Bailly",
                    "Marco Asensio",
                    "Bernardo Silva",
                    "A. Laporte",
                    "D. Alli",
                    "S. Mané",
                    "Carvajal",
                    "J. Draxler"
                  ],
                  "type": "bar",
                  "uid": "0b6b15fe-d9ac-4bdb-8608-38ccba655940",
                  "x": [
                    91,
                    92,
                    93,
                    94,
                    95,
                    96,
                    97,
                    98,
                    99,
                    100
                  ],
                  "y": [
                    85,
                    85,
                    84,
                    84,
                    84,
                    84,
                    84,
                    84,
                    84,
                    84
                  ]
                },
                {
                  "marker": {
                    "color": "rgba(148, 255, 130,0.9)",
                    "line": {
                      "color": "rgb(0,0,0)",
                      "width": 1
                    }
                  },
                  "name": "Potential",
                  "type": "bar",
                  "uid": "2c0191aa-30bc-4d84-a16e-204f86ed3d2f",
                  "x": [
                    91,
                    92,
                    93,
                    94,
                    95,
                    96,
                    97,
                    98,
                    99,
                    100
                  ],
                  "y": [
                    85,
                    85,
                    89,
                    92,
                    91,
                    89,
                    90,
                    87,
                    87,
                    87
                  ]
                }
              ],
              "layout": {
                "barmode": "group"
              }
            },
            "text/html": [
              "<div>\n",
              "        \n",
              "        \n",
              "            <div id=\"87b16df8-e79e-43dd-8d1d-f8764790f5b5\" class=\"plotly-graph-div\" style=\"height:525px; width:100%;\"></div>\n",
              "            <script type=\"text/javascript\">\n",
              "                require([\"plotly\"], function(Plotly) {\n",
              "                    window.PLOTLYENV=window.PLOTLYENV || {};\n",
              "                    window.PLOTLYENV.BASE_URL='https://plot.ly';\n",
              "                    \n",
              "                if (document.getElementById(\"87b16df8-e79e-43dd-8d1d-f8764790f5b5\")) {\n",
              "                    Plotly.newPlot(\n",
              "                        '87b16df8-e79e-43dd-8d1d-f8764790f5b5',\n",
              "                        [{\"marker\": {\"color\": \"rgba(255,106,0,0.9)\", \"line\": {\"color\": \"rgb(0,0,0)\", \"width\": 1}}, \"name\": \"Overall\", \"text\": [\"V. Kompany\", \"A. Barzagli\", \"E. Bailly\", \"Marco Asensio\", \"Bernardo Silva\", \"A. Laporte\", \"D. Alli\", \"S. Man\\u00e9\", \"Carvajal\", \"J. Draxler\"], \"type\": \"bar\", \"uid\": \"4b879c37-1899-464b-b64f-0fd4a7796faa\", \"x\": [91, 92, 93, 94, 95, 96, 97, 98, 99, 100], \"y\": [85, 85, 84, 84, 84, 84, 84, 84, 84, 84]}, {\"marker\": {\"color\": \"rgba(148, 255, 130,0.9)\", \"line\": {\"color\": \"rgb(0,0,0)\", \"width\": 1}}, \"name\": \"Potential\", \"type\": \"bar\", \"uid\": \"644c9c70-b5fc-4cc5-b84c-cd3c39a636a8\", \"x\": [91, 92, 93, 94, 95, 96, 97, 98, 99, 100], \"y\": [85, 85, 89, 92, 91, 89, 90, 87, 87, 87]}],\n",
              "                        {\"barmode\": \"group\"},\n",
              "                        {\"showLink\": false, \"linkText\": \"Export to plot.ly\", \"plotlyServerURL\": \"https://plot.ly\", \"responsive\": true}\n",
              "                    ).then(function(){\n",
              "                            \n",
              "var gd = document.getElementById('87b16df8-e79e-43dd-8d1d-f8764790f5b5');\n",
              "var x = new MutationObserver(function (mutations, observer) {{\n",
              "        var display = window.getComputedStyle(gd).display;\n",
              "        if (!display || display === 'none') {{\n",
              "            console.log([gd, 'removed!']);\n",
              "            Plotly.purge(gd);\n",
              "            observer.disconnect();\n",
              "        }}\n",
              "}});\n",
              "\n",
              "// Listen for the removal of the full notebook cells\n",
              "var notebookContainer = gd.closest('#notebook-container');\n",
              "if (notebookContainer) {{\n",
              "    x.observe(notebookContainer, {childList: true});\n",
              "}}\n",
              "\n",
              "// Listen for the clearing of the current output cell\n",
              "var outputEl = gd.closest('.output');\n",
              "if (outputEl) {{\n",
              "    x.observe(outputEl, {childList: true});\n",
              "}}\n",
              "\n",
              "                        })\n",
              "                };\n",
              "                });\n",
              "            </script>\n",
              "        </div>"
            ]
          },
          "metadata": {
            "tags": []
          }
        }
      ]
    },
    {
      "metadata": {
        "id": "ftw0748W8BPa",
        "colab_type": "text"
      },
      "cell_type": "markdown",
      "source": [
        "From above barplot, we are trying to do some analysis on the players from 90 to 100 in respect of overall and their potential values.Player no.91 and 92 have equal overal and potential but from player 93 to 100 everbody have the higher potenial value as compare to the overall value."
      ]
    },
    {
      "metadata": {
        "id": "QvyMKswV8BPa",
        "colab_type": "text"
      },
      "cell_type": "markdown",
      "source": [
        "# Top 5 Players Frikik and Penalty Strokes Comparison with Bar Plot"
      ]
    },
    {
      "metadata": {
        "id": "L6r8hGUU8BPb",
        "colab_type": "code",
        "colab": {},
        "outputId": "964958b8-1ff5-4922-e943-a271a2b4c5ab"
      },
      "cell_type": "code",
      "source": [
        "#Prepare Data Frame\n",
        "d_frame = fifa_data.iloc[:5,:]\n",
        "\n",
        "#Create trace1\n",
        "trace1= {\n",
        "    'x': d_frame.array,\n",
        "    'y': d_frame.free_kick,\n",
        "    'name': 'Free Kick',\n",
        "    'type': 'bar',\n",
        "    'text': d_frame.Name\n",
        "};\n",
        "#Create trace2\n",
        "trace2= {\n",
        "    'x': d_frame.array,\n",
        "    'y': d_frame.Penalties,\n",
        "    'name': 'Penalty',\n",
        "    'type': 'bar',\n",
        "    'text': d_frame.Name,\n",
        "    'marker': dict(color= 'rgba(148, 255, 130,0.9)'),\n",
        "};\n",
        "data= [trace1, trace2]\n",
        "layout= {\n",
        "    'xaxis': {'title':'First 5 Player'},\n",
        "    'barmode': 'relative',\n",
        "    'title': 'Top 5 Players frikik and penalty strokes comparison'\n",
        "};\n",
        "fig = go.Figure(data=data, layout=layout)\n",
        "iplot(fig)"
      ],
      "execution_count": 0,
      "outputs": [
        {
          "output_type": "display_data",
          "data": {
            "application/vnd.plotly.v1+json": {
              "config": {
                "linkText": "Export to plot.ly",
                "plotlyServerURL": "https://plot.ly",
                "responsive": true,
                "showLink": false
              },
              "data": [
                {
                  "name": "Free Kick",
                  "text": [
                    "Cristiano Ronaldo",
                    "L. Messi",
                    "Neymar",
                    "L. Suárez",
                    "M. Neuer"
                  ],
                  "type": "bar",
                  "uid": "118797ef-318d-4993-bba6-f79d53d4209c",
                  "x": [
                    1,
                    2,
                    3,
                    4,
                    5
                  ],
                  "y": [
                    "76",
                    "90",
                    "84",
                    "84",
                    "11"
                  ]
                },
                {
                  "marker": {
                    "color": "rgba(148, 255, 130,0.9)"
                  },
                  "name": "Penalty",
                  "text": [
                    "Cristiano Ronaldo",
                    "L. Messi",
                    "Neymar",
                    "L. Suárez",
                    "M. Neuer"
                  ],
                  "type": "bar",
                  "uid": "b8fcca3b-238c-47d1-8166-442688830e65",
                  "x": [
                    1,
                    2,
                    3,
                    4,
                    5
                  ],
                  "y": [
                    "85",
                    "74",
                    "81",
                    "85",
                    "47"
                  ]
                }
              ],
              "layout": {
                "barmode": "relative",
                "title": {
                  "text": "Top 5 Players frikik and penalty strokes comparison"
                },
                "xaxis": {
                  "title": {
                    "text": "First 5 Player"
                  }
                }
              }
            },
            "text/html": [
              "<div>\n",
              "        \n",
              "        \n",
              "            <div id=\"3fdb199b-a4e3-454b-8be7-53a5d6292ca2\" class=\"plotly-graph-div\" style=\"height:525px; width:100%;\"></div>\n",
              "            <script type=\"text/javascript\">\n",
              "                require([\"plotly\"], function(Plotly) {\n",
              "                    window.PLOTLYENV=window.PLOTLYENV || {};\n",
              "                    window.PLOTLYENV.BASE_URL='https://plot.ly';\n",
              "                    \n",
              "                if (document.getElementById(\"3fdb199b-a4e3-454b-8be7-53a5d6292ca2\")) {\n",
              "                    Plotly.newPlot(\n",
              "                        '3fdb199b-a4e3-454b-8be7-53a5d6292ca2',\n",
              "                        [{\"name\": \"Free Kick\", \"text\": [\"Cristiano Ronaldo\", \"L. Messi\", \"Neymar\", \"L. Su\\u00e1rez\", \"M. Neuer\"], \"type\": \"bar\", \"uid\": \"2a0c7282-9bb2-4fd5-8b79-782c220b96f6\", \"x\": [1, 2, 3, 4, 5], \"y\": [\"76\", \"90\", \"84\", \"84\", \"11\"]}, {\"marker\": {\"color\": \"rgba(148, 255, 130,0.9)\"}, \"name\": \"Penalty\", \"text\": [\"Cristiano Ronaldo\", \"L. Messi\", \"Neymar\", \"L. Su\\u00e1rez\", \"M. Neuer\"], \"type\": \"bar\", \"uid\": \"42cfe345-a8b4-46a0-a0f2-bf9f9ccc9ec3\", \"x\": [1, 2, 3, 4, 5], \"y\": [\"85\", \"74\", \"81\", \"85\", \"47\"]}],\n",
              "                        {\"barmode\": \"relative\", \"title\": {\"text\": \"Top 5 Players frikik and penalty strokes comparison\"}, \"xaxis\": {\"title\": {\"text\": \"First 5 Player\"}}},\n",
              "                        {\"showLink\": false, \"linkText\": \"Export to plot.ly\", \"plotlyServerURL\": \"https://plot.ly\", \"responsive\": true}\n",
              "                    ).then(function(){\n",
              "                            \n",
              "var gd = document.getElementById('3fdb199b-a4e3-454b-8be7-53a5d6292ca2');\n",
              "var x = new MutationObserver(function (mutations, observer) {{\n",
              "        var display = window.getComputedStyle(gd).display;\n",
              "        if (!display || display === 'none') {{\n",
              "            console.log([gd, 'removed!']);\n",
              "            Plotly.purge(gd);\n",
              "            observer.disconnect();\n",
              "        }}\n",
              "}});\n",
              "\n",
              "// Listen for the removal of the full notebook cells\n",
              "var notebookContainer = gd.closest('#notebook-container');\n",
              "if (notebookContainer) {{\n",
              "    x.observe(notebookContainer, {childList: true});\n",
              "}}\n",
              "\n",
              "// Listen for the clearing of the current output cell\n",
              "var outputEl = gd.closest('.output');\n",
              "if (outputEl) {{\n",
              "    x.observe(outputEl, {childList: true});\n",
              "}}\n",
              "\n",
              "                        })\n",
              "                };\n",
              "                });\n",
              "            </script>\n",
              "        </div>"
            ]
          },
          "metadata": {
            "tags": []
          }
        }
      ]
    },
    {
      "metadata": {
        "id": "ECJvHOk48BPc",
        "colab_type": "text"
      },
      "cell_type": "markdown",
      "source": [
        "From above barplot, Neymar and Suarez are aproximately same free kick and penalty but messi has high free kick but less penalty.Ronaldo has 85 penalty and 75 free kick."
      ]
    },
    {
      "metadata": {
        "id": "y9uimSrl8BPc",
        "colab_type": "text"
      },
      "cell_type": "markdown",
      "source": [
        "# Top 10 Players 'Ball Control', 'Dribbling' and 'Shot Power' Features Comparison with Scatter 3D Plot"
      ]
    },
    {
      "metadata": {
        "id": "yd1BmVq78BPc",
        "colab_type": "code",
        "colab": {},
        "outputId": "40039b00-bb1a-4cd2-cba5-301aae23eac1"
      },
      "cell_type": "code",
      "source": [
        "#Prepare Data Frame\n",
        "d_frame = fifa_data.iloc[:10,:]\n",
        "\n",
        "#Create trace\n",
        "trace = go.Scatter3d(\n",
        "    x=d_frame.ball_control,\n",
        "    y=d_frame.Dribbling,\n",
        "    z=d_frame.shot_power,\n",
        "    text= d_frame.Name,\n",
        "    mode='markers',\n",
        "    marker=dict(\n",
        "        size=12,\n",
        "        #color= z,          #set color to an array/list of desired value (plotly.ly)\n",
        " \n",
        "        colorscale='Viridis',   #Choose a colorscale\n",
        "        opacity=0.8\n",
        "    )\n",
        ")\n",
        "data = [trace]\n",
        "layout = go.Layout(\n",
        "    margin=dict(\n",
        "        l=0,\n",
        "        r=0,\n",
        "        b=0,\n",
        "        t=0\n",
        "    )\n",
        ")\n",
        "fig = go.Figure(data=data, layout=layout)\n",
        "iplot(fig)"
      ],
      "execution_count": 0,
      "outputs": [
        {
          "output_type": "display_data",
          "data": {
            "application/vnd.plotly.v1+json": {
              "config": {
                "linkText": "Export to plot.ly",
                "plotlyServerURL": "https://plot.ly",
                "responsive": true,
                "showLink": false
              },
              "data": [
                {
                  "marker": {
                    "colorscale": "Viridis",
                    "opacity": 0.8,
                    "size": 12
                  },
                  "mode": "markers",
                  "text": [
                    "Cristiano Ronaldo",
                    "L. Messi",
                    "Neymar",
                    "L. Suárez",
                    "M. Neuer",
                    "R. Lewandowski",
                    "De Gea",
                    "E. Hazard",
                    "T. Kroos",
                    "G. Higuaín"
                  ],
                  "type": "scatter3d",
                  "uid": "61a54e49-90f8-49ed-833b-94752d0cc1db",
                  "x": [
                    "93",
                    "95",
                    "95",
                    "91",
                    "48",
                    "89",
                    "42",
                    "92",
                    "89",
                    "85"
                  ],
                  "y": [
                    "91",
                    "97",
                    "96",
                    "86",
                    "30",
                    "85",
                    "18",
                    "93",
                    "79",
                    "84"
                  ],
                  "z": [
                    "94",
                    "85",
                    "80",
                    "87",
                    "25",
                    "88",
                    "31",
                    "79",
                    "87",
                    "88"
                  ]
                }
              ],
              "layout": {
                "margin": {
                  "b": 0,
                  "l": 0,
                  "r": 0,
                  "t": 0
                }
              }
            },
            "text/html": [
              "<div>\n",
              "        \n",
              "        \n",
              "            <div id=\"7092b515-8304-466c-b3aa-7ca040e62d97\" class=\"plotly-graph-div\" style=\"height:525px; width:100%;\"></div>\n",
              "            <script type=\"text/javascript\">\n",
              "                require([\"plotly\"], function(Plotly) {\n",
              "                    window.PLOTLYENV=window.PLOTLYENV || {};\n",
              "                    window.PLOTLYENV.BASE_URL='https://plot.ly';\n",
              "                    \n",
              "                if (document.getElementById(\"7092b515-8304-466c-b3aa-7ca040e62d97\")) {\n",
              "                    Plotly.newPlot(\n",
              "                        '7092b515-8304-466c-b3aa-7ca040e62d97',\n",
              "                        [{\"marker\": {\"colorscale\": \"Viridis\", \"opacity\": 0.8, \"size\": 12}, \"mode\": \"markers\", \"text\": [\"Cristiano Ronaldo\", \"L. Messi\", \"Neymar\", \"L. Su\\u00e1rez\", \"M. Neuer\", \"R. Lewandowski\", \"De Gea\", \"E. Hazard\", \"T. Kroos\", \"G. Higua\\u00edn\"], \"type\": \"scatter3d\", \"uid\": \"913d060b-601f-46ef-9d01-a4183370bfa1\", \"x\": [\"93\", \"95\", \"95\", \"91\", \"48\", \"89\", \"42\", \"92\", \"89\", \"85\"], \"y\": [\"91\", \"97\", \"96\", \"86\", \"30\", \"85\", \"18\", \"93\", \"79\", \"84\"], \"z\": [\"94\", \"85\", \"80\", \"87\", \"25\", \"88\", \"31\", \"79\", \"87\", \"88\"]}],\n",
              "                        {\"margin\": {\"b\": 0, \"l\": 0, \"r\": 0, \"t\": 0}},\n",
              "                        {\"showLink\": false, \"linkText\": \"Export to plot.ly\", \"plotlyServerURL\": \"https://plot.ly\", \"responsive\": true}\n",
              "                    ).then(function(){\n",
              "                            \n",
              "var gd = document.getElementById('7092b515-8304-466c-b3aa-7ca040e62d97');\n",
              "var x = new MutationObserver(function (mutations, observer) {{\n",
              "        var display = window.getComputedStyle(gd).display;\n",
              "        if (!display || display === 'none') {{\n",
              "            console.log([gd, 'removed!']);\n",
              "            Plotly.purge(gd);\n",
              "            observer.disconnect();\n",
              "        }}\n",
              "}});\n",
              "\n",
              "// Listen for the removal of the full notebook cells\n",
              "var notebookContainer = gd.closest('#notebook-container');\n",
              "if (notebookContainer) {{\n",
              "    x.observe(notebookContainer, {childList: true});\n",
              "}}\n",
              "\n",
              "// Listen for the clearing of the current output cell\n",
              "var outputEl = gd.closest('.output');\n",
              "if (outputEl) {{\n",
              "    x.observe(outputEl, {childList: true});\n",
              "}}\n",
              "\n",
              "                        })\n",
              "                };\n",
              "                });\n",
              "            </script>\n",
              "        </div>"
            ]
          },
          "metadata": {
            "tags": []
          }
        }
      ]
    },
    {
      "metadata": {
        "id": "xphjMlH28BPd",
        "colab_type": "text"
      },
      "cell_type": "markdown",
      "source": [
        "In above visualization, we are trying to visualize the top ten players performance features (Ball Control,dribling and shot power ).If we hover over the graph, we can visualize that messi,ronaldo,Hazard and neymar ball control and dribbling are aproximately same but in the case of shot power ronaldo is much better.Furthermore,Neuer and Gea are having worst ball control,dribling and shot power performance features."
      ]
    }
  ]
}